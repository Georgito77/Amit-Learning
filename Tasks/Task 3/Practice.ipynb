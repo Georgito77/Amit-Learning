{
 "cells": [
  {
   "cell_type": "markdown",
   "metadata": {},
   "source": [
    "1. Write a Numpy program to get the Numpy version and show the Numpy build configuration.\n",
    "Click me to see the sample solution\n",
    "\n",
    "2. Write a NumPy program to get help with the add function.\n",
    "Click me to see the sample solution\n",
    "\n",
    "3. Write a NumPy program to test whether none of the elements of a given array are zero. \n",
    "Click me to see the sample solution\n",
    "\n",
    "4. Write a NumPy program to test if any of the elements of a given array are non-zero. \n",
    "Click me to see the sample solution\n",
    "\n",
    "5. Write a NumPy program to test a given array element-wise for finiteness (not infinity or not a number).\n",
    "Click me to see the sample solution\n",
    "\n",
    "6. Write a NumPy program to test elements-wise for positive or negative infinity. \n",
    "Click me to see the sample solution\n",
    "\n",
    "7. Write a NumPy program to test element-wise for NaN of a given array.\n",
    "Click me to see the sample solution\n",
    "\n",
    "8. Write a NumPy program to test element-wise for complex numbers, real numbers in a given array. Also test if a given number is of a scalar type or not. \n",
    "Click me to see the sample solution\n",
    "\n",
    "9. Write a NumPy program to test whether two arrays are element-wise equal within a tolerance.\n",
    "Click me to see the sample solution\n",
    "\n",
    "10. Write a NumPy program to create an element-wise comparison (greater, greater_equal, less and less_equal) of two given arrays.\n",
    "Click me to see the sample solution\n",
    "\n",
    "11. Write a NumPy program to create an element-wise comparison (equal, equal within a tolerance) of two given arrays.\n",
    "Click me to see the sample solution\n",
    "\n",
    "12. Write a NumPy program to create an array with the values 1, 7, 13, 105 and determine the size of the memory occupied by the array.\n",
    "Click me to see the sample solution\n",
    "\n",
    "13. Write a NumPy program to create an array of 10 zeros, 10 ones, and 10 fives. \n",
    "Click me to see the sample solution\n",
    "\n",
    "14. Write a NumPy program to create an array of integers from 30 to 70.\n",
    "Click me to see the sample solution\n",
    "\n",
    "15.Write a NumPy program to create an array of all even integers from 30 to 70.\n",
    "Click me to see the sample solution\n",
    "\n",
    "16. Write a NumPy program to create a 3x3 identity matrix.\n",
    "Click me to see the sample solution\n",
    "\n",
    "17. Write a NumPy program to generate a random number between 0 and 1.\n",
    "Click me to see the sample solution\n",
    "\n",
    "18. Write a NumPy program to generate an array of 15 random numbers from a standard normal distribution.\n",
    "Click me to see the sample solution\n",
    "\n",
    "19. Write a NumPy program to create a vector with values ranging from 15 to 55 and print all values except the first and last.\n",
    "Click me to see the sample solution\n",
    "\n",
    "20. Write a NumPy program to create a 3X4 array and iterate over it.\n",
    "Click me to see the sample solution\n",
    "\n",
    "21. Write a NumPy program to create a vector of length 10 with values evenly distributed between 5 and 50.\n",
    "Click me to see the sample solution\n",
    "\n",
    "22. Write a NumPy program to create a vector with values from 0 to 20 and change the sign of the numbers in the range from 9 to 15.\n",
    "Click me to see the sample solution\n",
    "\n",
    "23. Write a NumPy program to create a vector of length 5 filled with arbitrary integers from 0 to 10.\n",
    "Click me to see the sample solution\n",
    "\n",
    "24. Write a NumPy program to multiply the values of two given vectors.\n",
    "Click me to see the sample solution\n",
    "\n",
    "25. Write a NumPy program to create a 3x4 matrix filled with values from 10 to 21.\n",
    "Click me to see the sample solution\n",
    "\n",
    "26. Write a NumPy program to find the number of rows and columns in a given matrix.\n",
    "Click me to see the sample solution\n",
    "\n",
    "27. Write a NumPy program to create a 3x3 identity matrix, i.e. the diagonal elements are 1, the rest are 0.\n",
    "Click me to see the sample solution\n",
    "\n",
    "28. Write a NumPy program to create a 10x10 matrix, in which the elements on the borders will be equal to 1, and inside 0.\n",
    "Click me to see the sample solution\n",
    "\n",
    "29. Write a NumPy program to create a 5x5 zero matrix with elements on the main diagonal equal to 1, 2, 3, 4, 5.\n",
    "Click me to see the sample solution\n",
    "\n",
    "30. Write a NumPy program to create a 4x4 matrix in which 0 and 1 are staggered, with zeros on the main diagonal.\n",
    "Click me to see the sample solution\n",
    "\n",
    "31. Write a NumPy program to create a 3x3x3 array filled with arbitrary values.\n",
    "Click me to see the sample solution\n",
    "\n",
    "32. Write a NumPy program to compute the sum of all elements, the sum of each column and the sum of each row in a given array.\n",
    "Click me to see the sample solution\n",
    "\n",
    "33. Write a NumPy program to compute the inner product of two given vectors.\n",
    "Click me to see the sample solution\n",
    "\n",
    "34. Write a NumPy program to add a vector to each row of a given matrix.\n",
    "Click me to see the sample solution\n",
    "\n",
    "35. Write a NumPy program to save a given array to a binary file .\n",
    "Click me to see the sample solution\n",
    "\n",
    "36. Write a NumPy program to save a given array to a binary file.\n",
    "Click me to see the sample solution\n",
    "\n",
    "37. Write a NumPy program to save a given array to a text file and load it.\n",
    "Click me to see the sample solution\n",
    "\n",
    "38. Write a NumPy program to convert a given array into bytes, and load it as an array.\n",
    "Click me to see the sample solution\n",
    "\n",
    "39. Write a NumPy program to convert a given list into an array, then again convert it into a list. Check initial list and final list are equal or not.\n",
    "Click me to see the sample solution\n",
    "\n",
    "40. Write a NumPy program to compute the x and y coordinates for points on a sine curve and plot the points using matplotlib.\n",
    "Click me to see the sample solution\n",
    "\n",
    "41. Write a NumPy program to convert numpy dtypes to native Python types\n",
    "Click me to see the sample solution\n",
    "\n",
    "42. Write a NumPy program to add elements to a matrix. If an element in the matrix is 0, we will not add the element below this element.\n",
    "Click me to see the sample solution\n",
    "\n",
    "43. Write a NumPy program to find missing data in a given array.\n",
    "Click me to see the sample solution\n",
    "\n",
    "44. Write a NumPy program to check whether two arrays are equal (element wise) or not.\n",
    "Click me to see the sample solution\n",
    "\n",
    "45. Write a NumPy program to create a one-dimensional array of single, two and three-digit numbers.\n",
    "Click me to see the sample solution\n",
    "\n",
    "46. Write a NumPy program to create a two-dimensional array of a specified format.\n",
    "Click me to see the sample solution\n",
    "\n",
    "47. Write a NumPy program to create a one-dimensional array of forty pseudo-randomly generated values. Select random numbers from a uniform distribution between 0 and 1. \n",
    "Click me to see the sample solution\n",
    "\n",
    "48. Write a NumPy program to create a two-dimensional array with shape (8,5) of random numbers. Select random numbers from a normal distribution (200,7).\n",
    "Click me to see the sample solution\n",
    "\n",
    "49. Write a NumPy program to generate a uniform, non-uniform random sample from a given 1-D array with and without replacement.\n",
    "Click me to see the sample solution\n",
    "\n",
    "50. Write a NumPy program to create a 4x4 array with random values. Create an array from the said array swapping first and last rows.\n",
    "Click me to see the sample solution\n",
    "\n",
    "51. Write a NumPy program to create a new array of given shape (5,6) and type, filled with zeros.\n",
    "Click me to see the sample solution\n",
    "\n",
    "52. Write a NumPy program to sort a given array by row and column in ascending order.\n",
    "Click me to see the sample solution\n",
    "\n",
    "53. Write a NumPy program to extract all numbers from a given array less and greater than a specified number.\n",
    "Click me to see the sample solution\n",
    "\n",
    "54. Write a NumPy program to replace all numbers in a given array equal, less and greater than a given number.\n",
    "Click me to see the sample solution\n",
    "\n",
    "55. Write a NumPy program to create an array of equal shape and data type for a given array.\n",
    "Click me to see the sample solution\n",
    "\n",
    "56. Write a NumPy program to create a three-dimensional array with the shape (3,5,4) and set it to a variable.\n",
    "Click me to see the sample solution\n",
    "\n",
    "57. Write a NumPy program to create a 4x4 array. Create an array from said array by swapping first and last, second and third columns.\n",
    "Click me to see the sample solution\n",
    "\n",
    "58. Write a NumPy program to swap rows and columns of a given array in reverse order.\n",
    "Click me to see the sample solution\n",
    "\n",
    "59. Write a NumPy program to multiply two given arrays of the same size element-by-element.\n",
    "Click me to see the sample solution"
   ]
  },
  {
   "cell_type": "code",
   "execution_count": 2,
   "metadata": {},
   "outputs": [
    {
     "name": "stdout",
     "output_type": "stream",
     "text": [
      "2.0.0\n"
     ]
    }
   ],
   "source": [
    "#1\n",
    "import numpy as np\n",
    "print(np.__version__)"
   ]
  },
  {
   "cell_type": "code",
   "execution_count": 3,
   "metadata": {},
   "outputs": [
    {
     "name": "stdout",
     "output_type": "stream",
     "text": [
      "add(x1, x2, /, out=None, *, where=True, casting='same_kind', order='K', dtype=None, subok=True[, signature])\n",
      "\n",
      "Add arguments element-wise.\n",
      "\n",
      "Parameters\n",
      "----------\n",
      "x1, x2 : array_like\n",
      "    The arrays to be added.\n",
      "    If ``x1.shape != x2.shape``, they must be broadcastable to a common\n",
      "    shape (which becomes the shape of the output).\n",
      "out : ndarray, None, or tuple of ndarray and None, optional\n",
      "    A location into which the result is stored. If provided, it must have\n",
      "    a shape that the inputs broadcast to. If not provided or None,\n",
      "    a freshly-allocated array is returned. A tuple (possible only as a\n",
      "    keyword argument) must have length equal to the number of outputs.\n",
      "where : array_like, optional\n",
      "    This condition is broadcast over the input. At locations where the\n",
      "    condition is True, the `out` array will be set to the ufunc result.\n",
      "    Elsewhere, the `out` array will retain its original value.\n",
      "    Note that if an uninitialized `out` array is created via the default\n",
      "    ``out=None``, locations within it where the condition is False will\n",
      "    remain uninitialized.\n",
      "**kwargs\n",
      "    For other keyword-only arguments, see the\n",
      "    :ref:`ufunc docs <ufuncs.kwargs>`.\n",
      "\n",
      "Returns\n",
      "-------\n",
      "add : ndarray or scalar\n",
      "    The sum of `x1` and `x2`, element-wise.\n",
      "    This is a scalar if both `x1` and `x2` are scalars.\n",
      "\n",
      "Notes\n",
      "-----\n",
      "Equivalent to `x1` + `x2` in terms of array broadcasting.\n",
      "\n",
      "Examples\n",
      "--------\n",
      ">>> np.add(1.0, 4.0)\n",
      "5.0\n",
      ">>> x1 = np.arange(9.0).reshape((3, 3))\n",
      ">>> x2 = np.arange(3.0)\n",
      ">>> np.add(x1, x2)\n",
      "array([[  0.,   2.,   4.],\n",
      "       [  3.,   5.,   7.],\n",
      "       [  6.,   8.,  10.]])\n",
      "\n",
      "The ``+`` operator can be used as a shorthand for ``np.add`` on ndarrays.\n",
      "\n",
      ">>> x1 = np.arange(9.0).reshape((3, 3))\n",
      ">>> x2 = np.arange(3.0)\n",
      ">>> x1 + x2\n",
      "array([[ 0.,  2.,  4.],\n",
      "       [ 3.,  5.,  7.],\n",
      "       [ 6.,  8., 10.]])\n",
      "None\n"
     ]
    }
   ],
   "source": [
    "#2.\n",
    "print(np.info(np.add))"
   ]
  },
  {
   "cell_type": "code",
   "execution_count": 15,
   "metadata": {},
   "outputs": [
    {
     "name": "stdout",
     "output_type": "stream",
     "text": [
      "False\n"
     ]
    }
   ],
   "source": [
    "#3.\n",
    "x=np.array([1,0,3,4])\n",
    "print(np.all(x,0))"
   ]
  },
  {
   "cell_type": "code",
   "execution_count": 14,
   "metadata": {},
   "outputs": [
    {
     "name": "stdout",
     "output_type": "stream",
     "text": [
      "True\n"
     ]
    }
   ],
   "source": [
    "#4.\n",
    "x=np.array([1,1,3,4])\n",
    "print(np.all(x,0))"
   ]
  },
  {
   "cell_type": "code",
   "execution_count": 17,
   "metadata": {},
   "outputs": [
    {
     "name": "stdout",
     "output_type": "stream",
     "text": [
      "[ True  True False]\n"
     ]
    }
   ],
   "source": [
    "#5. \n",
    "y=np.array([1,2,np.inf])\n",
    "print(np.isfinite(y))"
   ]
  },
  {
   "cell_type": "code",
   "execution_count": 19,
   "metadata": {},
   "outputs": [
    {
     "name": "stdout",
     "output_type": "stream",
     "text": [
      "[False False False  True] [False False  True False]\n"
     ]
    }
   ],
   "source": [
    "#6.\n",
    "arr=np.array([1,-2,-np.inf,np.inf])\n",
    "res= np.isposinf(arr)\n",
    "resw=np.isneginf(arr)\n",
    "print(res, resw)"
   ]
  },
  {
   "cell_type": "code",
   "execution_count": 55,
   "metadata": {},
   "outputs": [
    {
     "data": {
      "text/plain": [
       "array([False, False, False,  True])"
      ]
     },
     "execution_count": 55,
     "metadata": {},
     "output_type": "execute_result"
    }
   ],
   "source": [
    "#7.\n",
    "arr=np.array([1,-2,3,np.nan])\n",
    "res=np.isnan(arr)\n",
    "res"
   ]
  },
  {
   "cell_type": "code",
   "execution_count": 56,
   "metadata": {},
   "outputs": [
    {
     "name": "stdout",
     "output_type": "stream",
     "text": [
      "[ True False  True  True] [False  True False False] True\n"
     ]
    }
   ],
   "source": [
    "#8.\n",
    "arr=np.array([1,-2.j,3.2,np.nan])\n",
    "rel=np.isreal(arr)\n",
    "com=np.iscomplex(arr)\n",
    "sca=np.isscalar(3.1)\n",
    "print(rel, com, sca)"
   ]
  },
  {
   "cell_type": "code",
   "execution_count": 57,
   "metadata": {},
   "outputs": [
    {
     "name": "stdout",
     "output_type": "stream",
     "text": [
      "False\n",
      "True\n",
      "False\n",
      "False\n",
      "True\n"
     ]
    }
   ],
   "source": [
    "#9. Dont understand\n",
    "print(np.allclose([1e10,1e-7], [1.00001e10,1e-8]))\n",
    "print(np.allclose([1e10,1e-8], [1.00001e10,1e-9]))\n",
    "print(np.allclose([1e10,1e-8], [1.0001e10,1e-9]))\n",
    "print(np.allclose([1.0, np.nan], [1.0, np.nan]))\n",
    "print(np.allclose([1.0, np.nan], [1.0, np.nan], equal_nan=True)) \n"
   ]
  },
  {
   "cell_type": "code",
   "execution_count": 58,
   "metadata": {},
   "outputs": [
    {
     "name": "stdout",
     "output_type": "stream",
     "text": [
      "[False  True False]\n",
      "[ True False False]\n",
      "[False  True  True]\n",
      "[ True False  True]\n"
     ]
    }
   ],
   "source": [
    "#10.\n",
    "x=np.array([1,3,2])\n",
    "y=np.array([3,1,2])\n",
    "print(np.greater(x,y))\n",
    "print(np.less(x,y))\n",
    "print(np.greater_equal(x,y))\n",
    "print(np.less_equal(x,y))"
   ]
  },
  {
   "cell_type": "code",
   "execution_count": 59,
   "metadata": {},
   "outputs": [],
   "source": [
    "#11. Dont understand Tolerance"
   ]
  },
  {
   "cell_type": "code",
   "execution_count": 60,
   "metadata": {},
   "outputs": [
    {
     "name": "stdout",
     "output_type": "stream",
     "text": [
      "Original array:\n",
      "[  1   7  13 105]\n",
      "Size of the memory occupied by the said array:\n",
      "32 bytes\n"
     ]
    }
   ],
   "source": [
    "#12.\n",
    "X = np.array([1, 7, 13, 105])\n",
    "\n",
    "print(\"Original array:\")\n",
    "print(X)\n",
    "print(\"Size of the memory occupied by the said array:\")\n",
    "print(\"%d bytes\" % (X.size * X.itemsize))"
   ]
  },
  {
   "cell_type": "code",
   "execution_count": 61,
   "metadata": {},
   "outputs": [
    {
     "name": "stdout",
     "output_type": "stream",
     "text": [
      "[0 0 0 0 0 0 0 0 0 0]\n",
      "[1 1 1 1 1 1 1 1 1 1]\n",
      "[5 5 5 5 5 5 5 5 5 5]\n"
     ]
    }
   ],
   "source": [
    "#13.\n",
    "arr=np.zeros(10,dtype='int8')\n",
    "print(arr)\n",
    "arr=np.ones(10,dtype='int8')\n",
    "print(arr)\n",
    "arr=np.ones(10,dtype='int8')*5\n",
    "print(arr)"
   ]
  },
  {
   "cell_type": "code",
   "execution_count": 62,
   "metadata": {},
   "outputs": [
    {
     "data": {
      "text/plain": [
       "array([30, 31, 32, 33, 34, 35, 36, 37, 38, 39, 40, 41, 42, 43, 44, 45, 46,\n",
       "       47, 48, 49, 50, 51, 52, 53, 54, 55, 56, 57, 58, 59, 60, 61, 62, 63,\n",
       "       64, 65, 66, 67, 68, 69, 70])"
      ]
     },
     "execution_count": 62,
     "metadata": {},
     "output_type": "execute_result"
    }
   ],
   "source": [
    "#14.\n",
    "arr=np.arange(30,71)\n",
    "arr"
   ]
  },
  {
   "cell_type": "code",
   "execution_count": 63,
   "metadata": {},
   "outputs": [
    {
     "data": {
      "text/plain": [
       "array([30, 32, 34, 36, 38, 40, 42, 44, 46, 48, 50, 52, 54, 56, 58, 60, 62,\n",
       "       64, 66, 68, 70])"
      ]
     },
     "execution_count": 63,
     "metadata": {},
     "output_type": "execute_result"
    }
   ],
   "source": [
    "#15.\n",
    "arr=np.arange(30,71,2)\n",
    "arr \n"
   ]
  },
  {
   "cell_type": "code",
   "execution_count": 64,
   "metadata": {},
   "outputs": [
    {
     "name": "stdout",
     "output_type": "stream",
     "text": [
      "[[1 0 0]\n",
      " [0 1 0]\n",
      " [0 0 1]]\n"
     ]
    }
   ],
   "source": [
    "#16\n",
    "arr=np.identity(3, dtype='int8')\n",
    "print(arr)"
   ]
  },
  {
   "cell_type": "code",
   "execution_count": 65,
   "metadata": {},
   "outputs": [
    {
     "data": {
      "text/plain": [
       "array([0], dtype=int32)"
      ]
     },
     "execution_count": 65,
     "metadata": {},
     "output_type": "execute_result"
    }
   ],
   "source": [
    "#17.\n",
    "rando=np.random.randint(0,1,1)\n",
    "rando"
   ]
  },
  {
   "cell_type": "code",
   "execution_count": 12,
   "metadata": {},
   "outputs": [
    {
     "data": {
      "text/plain": [
       "array([-0.22432612,  1.3881978 , -2.72783465, -0.63652791,  2.16260937,\n",
       "        1.94649857,  1.8216902 ,  0.87382042,  0.41755516,  1.81970978,\n",
       "       -1.62408412, -0.64758541, -1.2244392 , -0.13372755,  0.53460814])"
      ]
     },
     "execution_count": 12,
     "metadata": {},
     "output_type": "execute_result"
    }
   ],
   "source": [
    "#18.\n",
    "import numpy as np\n",
    "arr=np.random.normal(0,1,15)\n",
    "arr"
   ]
  },
  {
   "cell_type": "code",
   "execution_count": 21,
   "metadata": {},
   "outputs": [
    {
     "data": {
      "text/plain": [
       "array([16, 17, 18, 19, 20, 21, 22, 23, 24, 25, 26, 27, 28, 29, 30, 31, 32,\n",
       "       33, 34, 35, 36, 37, 38, 39, 40, 41, 42, 43, 44, 45, 46, 47, 48, 49,\n",
       "       50, 51, 52, 53])"
      ]
     },
     "execution_count": 21,
     "metadata": {},
     "output_type": "execute_result"
    }
   ],
   "source": [
    "#19.\n",
    "v=np.arange(15,55)\n",
    "v[1:-1]"
   ]
  },
  {
   "cell_type": "code",
   "execution_count": 24,
   "metadata": {},
   "outputs": [
    {
     "data": {
      "text/plain": [
       "array([[ 0,  1,  2,  3],\n",
       "       [ 4,  5,  6,  7],\n",
       "       [ 8,  9, 10, 11]])"
      ]
     },
     "execution_count": 24,
     "metadata": {},
     "output_type": "execute_result"
    }
   ],
   "source": [
    "#20.\n",
    "v=np.arange(0,12).reshape((3,4))\n",
    "v"
   ]
  },
  {
   "cell_type": "code",
   "execution_count": 32,
   "metadata": {},
   "outputs": [
    {
     "data": {
      "text/plain": [
       "array([10.  , 19.75, 29.5 , 39.25, 49.  ])"
      ]
     },
     "execution_count": 32,
     "metadata": {},
     "output_type": "execute_result"
    }
   ],
   "source": [
    "#21.\n",
    "o=np.linspace(10,49,5)\n",
    "o"
   ]
  },
  {
   "cell_type": "code",
   "execution_count": 42,
   "metadata": {},
   "outputs": [
    {
     "name": "stdout",
     "output_type": "stream",
     "text": [
      "[  0   1   2   3   4   5   6   7   8  -9 -10 -11 -12 -13 -14 -15  16  17\n",
      "  18  19  20]\n"
     ]
    }
   ],
   "source": [
    "#22 Importante\n",
    "x=np.arange(21)\n",
    "x[(x>=9) & (x<=15)]*=-1\n",
    "\n",
    "print(x)\n"
   ]
  },
  {
   "cell_type": "code",
   "execution_count": 44,
   "metadata": {},
   "outputs": [
    {
     "data": {
      "text/plain": [
       "array([10,  7, 14, 11, 13], dtype=int32)"
      ]
     },
     "execution_count": 44,
     "metadata": {},
     "output_type": "execute_result"
    }
   ],
   "source": [
    "#23\n",
    "x=np.random.randint(0,15,5)\n",
    "x"
   ]
  },
  {
   "cell_type": "code",
   "execution_count": 45,
   "metadata": {},
   "outputs": [
    {
     "name": "stdout",
     "output_type": "stream",
     "text": [
      "[2 2 9]\n"
     ]
    }
   ],
   "source": [
    "#24\n",
    "x=np.array([1,2,3])\n",
    "y=np.array([2,1,3])\n",
    "print(x*y)"
   ]
  },
  {
   "cell_type": "code",
   "execution_count": 48,
   "metadata": {},
   "outputs": [
    {
     "data": {
      "text/plain": [
       "array([[10, 11, 12, 13],\n",
       "       [14, 15, 16, 17],\n",
       "       [18, 19, 20, 21]])"
      ]
     },
     "execution_count": 48,
     "metadata": {},
     "output_type": "execute_result"
    }
   ],
   "source": [
    "#25\n",
    "x=np.arange(10,22).reshape(3,4)\n",
    "x"
   ]
  },
  {
   "cell_type": "code",
   "execution_count": 52,
   "metadata": {},
   "outputs": [
    {
     "name": "stdout",
     "output_type": "stream",
     "text": [
      "[[10 11 12 13]\n",
      " [14 15 16 17]\n",
      " [18 19 20 21]]\n",
      "(3, 4)\n"
     ]
    }
   ],
   "source": [
    "#26\n",
    "x=np.arange(10,22).reshape(3,4)\n",
    "print(x)\n",
    "print(x.shape)"
   ]
  },
  {
   "cell_type": "code",
   "execution_count": 53,
   "metadata": {},
   "outputs": [
    {
     "name": "stdout",
     "output_type": "stream",
     "text": [
      "[[1. 0. 0.]\n",
      " [0. 1. 0.]\n",
      " [0. 0. 1.]]\n"
     ]
    }
   ],
   "source": [
    "#27\n",
    "x=np.identity(3)\n",
    "print(x)"
   ]
  },
  {
   "cell_type": "code",
   "execution_count": 56,
   "metadata": {},
   "outputs": [
    {
     "data": {
      "text/plain": [
       "array([[1., 1., 1., 1., 1., 1., 1., 1., 1., 1.],\n",
       "       [1., 0., 0., 0., 0., 0., 0., 0., 0., 1.],\n",
       "       [1., 0., 0., 0., 0., 0., 0., 0., 0., 1.],\n",
       "       [1., 0., 0., 0., 0., 0., 0., 0., 0., 1.],\n",
       "       [1., 0., 0., 0., 0., 0., 0., 0., 0., 1.],\n",
       "       [1., 0., 0., 0., 0., 0., 0., 0., 0., 1.],\n",
       "       [1., 0., 0., 0., 0., 0., 0., 0., 0., 1.],\n",
       "       [1., 0., 0., 0., 0., 0., 0., 0., 0., 1.],\n",
       "       [1., 0., 0., 0., 0., 0., 0., 0., 0., 1.],\n",
       "       [1., 1., 1., 1., 1., 1., 1., 1., 1., 1.]])"
      ]
     },
     "execution_count": 56,
     "metadata": {},
     "output_type": "execute_result"
    }
   ],
   "source": [
    "#28\n",
    "x = np.ones((10, 10))\n",
    "x[1:-1, 1:-1] = 0\n",
    "x"
   ]
  },
  {
   "cell_type": "code",
   "execution_count": 61,
   "metadata": {},
   "outputs": [
    {
     "data": {
      "text/plain": [
       "array([[1, 0, 0, 0, 0],\n",
       "       [0, 2, 0, 0, 0],\n",
       "       [0, 0, 3, 0, 0],\n",
       "       [0, 0, 0, 4, 0],\n",
       "       [0, 0, 0, 0, 5]])"
      ]
     },
     "execution_count": 61,
     "metadata": {},
     "output_type": "execute_result"
    }
   ],
   "source": [
    "#29\n",
    "x=np.diag([1,2,3,4,5])\n",
    "x"
   ]
  },
  {
   "cell_type": "code",
   "execution_count": 63,
   "metadata": {},
   "outputs": [
    {
     "data": {
      "text/plain": [
       "array([[0., 1., 0., 1.],\n",
       "       [1., 0., 1., 0.],\n",
       "       [0., 1., 0., 1.],\n",
       "       [1., 0., 1., 0.]])"
      ]
     },
     "execution_count": 63,
     "metadata": {},
     "output_type": "execute_result"
    }
   ],
   "source": [
    "#30\n",
    "x = np.zeros((4, 4))\n",
    "x[::2, 1::2] = 1\n",
    "x[1::2, ::2] = 1\n",
    "x"
   ]
  },
  {
   "cell_type": "code",
   "execution_count": 64,
   "metadata": {},
   "outputs": [
    {
     "data": {
      "text/plain": [
       "array([[[0.12641931, 0.78842678, 0.2709274 ],\n",
       "        [0.06153998, 0.10742054, 0.42863524],\n",
       "        [0.80702323, 0.80919908, 0.1264858 ]],\n",
       "\n",
       "       [[0.87843989, 0.63957709, 0.9288735 ],\n",
       "        [0.44903641, 0.25882857, 0.67043872],\n",
       "        [0.20047602, 0.06544416, 0.80249972]],\n",
       "\n",
       "       [[0.42043278, 0.41100591, 0.90493212],\n",
       "        [0.97623177, 0.64846115, 0.64461948],\n",
       "        [0.86868863, 0.41578074, 0.64485468]]])"
      ]
     },
     "execution_count": 64,
     "metadata": {},
     "output_type": "execute_result"
    }
   ],
   "source": [
    "#31\n",
    "x=np.random.random((3, 3, 3))\n",
    "x"
   ]
  },
  {
   "cell_type": "code",
   "execution_count": 68,
   "metadata": {},
   "outputs": [
    {
     "name": "stdout",
     "output_type": "stream",
     "text": [
      "[[1 2 3]\n",
      " [1 2 3]]\n",
      "12\n",
      "[2 4 6]\n",
      "[6 6]\n"
     ]
    }
   ],
   "source": [
    "#32\n",
    "\n",
    "x=np.array([[1,2,3],[1,2,3]])\n",
    "print(x)\n",
    "print(np.sum(x))\n",
    "print(np.sum(x, axis=0))\n",
    "print(np.sum(x, axis=1)) "
   ]
  },
  {
   "cell_type": "code",
   "execution_count": 69,
   "metadata": {},
   "outputs": [
    {
     "name": "stdout",
     "output_type": "stream",
     "text": [
      "11\n"
     ]
    }
   ],
   "source": [
    "#33\n",
    "y=np.array([3,4])\n",
    "x=np.array([1,2])\n",
    "print(np.dot(x,y))"
   ]
  },
  {
   "cell_type": "code",
   "execution_count": 2,
   "metadata": {},
   "outputs": [
    {
     "name": "stdout",
     "output_type": "stream",
     "text": [
      "Original vector:\n",
      "[1 1 0]\n",
      "Original matrix:\n",
      "[[ 1  2  3]\n",
      " [ 4  5  6]\n",
      " [ 7  8  9]\n",
      " [10 11 12]]\n",
      "\n",
      "After adding the vector v to each row of the matrix m:\n",
      "[[ 2  3  3]\n",
      " [ 5  6  6]\n",
      " [ 8  9  9]\n",
      " [11 12 12]]\n"
     ]
    }
   ],
   "source": [
    "#34\n",
    "import numpy as np\n",
    "# Dont understand\n",
    "# Creating a NumPy array 'm' representing a matrix with 4 rows and 3 columns\n",
    "m = np.array([[1, 2, 3], [4, 5, 6], [7, 8, 9], [10, 11, 12]])\n",
    "\n",
    "# Creating a NumPy array 'v' representing a vector with 3 elements\n",
    "v = np.array([1, 1, 0])\n",
    "\n",
    "# Printing a message indicating the original vector 'v'\n",
    "print(\"Original vector:\")\n",
    "print(v)\n",
    "\n",
    "# Printing a message indicating the original matrix 'm'\n",
    "print(\"Original matrix:\")\n",
    "print(m)\n",
    "\n",
    "# Creating an empty matrix 'result' with the same shape as 'm' using np.empty_like()\n",
    "result = np.empty_like(m)\n",
    "\n",
    "# Adding the vector 'v' to each row of the matrix 'm' using a for loop\n",
    "for i in range(4):\n",
    "    result[i, :] = m[i, :] + v\n",
    "\n",
    "# Printing a message indicating the result after adding the vector 'v' to each row of the matrix 'm'\n",
    "print(\"\\nAfter adding the vector v to each row of the matrix m:\")\n",
    "print(result)"
   ]
  },
  {
   "cell_type": "code",
   "execution_count": 3,
   "metadata": {},
   "outputs": [
    {
     "name": "stdout",
     "output_type": "stream",
     "text": [
      "Check if 'temp_arra.npy' exists or not?\n",
      "True\n"
     ]
    }
   ],
   "source": [
    "#35\n",
    "# ?\n",
    "import os\n",
    "\n",
    "# Creating a NumPy array 'a' with integers from 0 to 19 using np.arange()\n",
    "a = np.arange(20)\n",
    "\n",
    "# Saving the NumPy array 'a' as a file named 'temp_arra.npy' using np.save()\n",
    "np.save('temp_arra.npy', a)\n",
    "\n",
    "# Printing a message checking if the file 'temp_arra.npy' exists or not\n",
    "print(\"Check if 'temp_arra.npy' exists or not?\")\n",
    "\n",
    "# Checking if the file 'temp_arra.npy' exists using os.path.exists()\n",
    "if os.path.exists('temp_arra.npy'):\n",
    "    # Loading the data from 'temp_arra.npy' into 'x2' using np.load()\n",
    "    x2 = np.load('temp_arra.npy')\n",
    "    \n",
    "    # Checking if the loaded array 'x2' is equal to the original array 'a' using np.array_equal()\n",
    "    print(np.array_equal(a, x2)) "
   ]
  },
  {
   "cell_type": "code",
   "execution_count": 4,
   "metadata": {},
   "outputs": [
    {
     "name": "stdout",
     "output_type": "stream",
     "text": [
      "Original arrays:\n",
      "[0 1 2 3 4 5 6 7 8 9]\n",
      "[11 12 13 14 15 16 17 18 19]\n",
      "Load arrays from the 'temp_arra.npz' file:\n",
      "[0 1 2 3 4 5 6 7 8 9]\n",
      "[11 12 13 14 15 16 17 18 19]\n"
     ]
    }
   ],
   "source": [
    "#36\n",
    "# ?\n",
    "import os\n",
    "\n",
    "# Creating a NumPy array 'x' containing integers from 0 to 9 using np.arange()\n",
    "x = np.arange(10)\n",
    "\n",
    "# Creating a NumPy array 'y' containing integers from 11 to 19 using np.arange()\n",
    "y = np.arange(11, 20)\n",
    "\n",
    "# Printing a message indicating the original arrays 'x' and 'y'\n",
    "print(\"Original arrays:\")\n",
    "print(x)\n",
    "print(y)\n",
    "\n",
    "# Saving the arrays 'x' and 'y' into a '.npz' file named 'temp_arra.npz' using np.savez()\n",
    "np.savez('temp_arra.npz', x=x, y=y)\n",
    "\n",
    "# Printing a message indicating loading arrays from the 'temp_arra.npz' file\n",
    "print(\"Load arrays from the 'temp_arra.npz' file:\")\n",
    "\n",
    "# Loading data from 'temp_arra.npz' into variables 'x2' and 'y2' using np.load()\n",
    "with np.load('temp_arra.npz') as data:\n",
    "    x2 = data['x']\n",
    "    y2 = data['y']\n",
    "    \n",
    "    # Printing the loaded arrays 'x2' and 'y2'\n",
    "    print(x2)\n",
    "    print(y2) "
   ]
  },
  {
   "cell_type": "code",
   "execution_count": 5,
   "metadata": {},
   "outputs": [
    {
     "name": "stdout",
     "output_type": "stream",
     "text": [
      "Original array:\n",
      "[[ 0  1  2]\n",
      " [ 3  4  5]\n",
      " [ 6  7  8]\n",
      " [ 9 10 11]]\n",
      "After loading, content of the text file:\n",
      "[[ 0.  1.  2.]\n",
      " [ 3.  4.  5.]\n",
      " [ 6.  7.  8.]\n",
      " [ 9. 10. 11.]]\n"
     ]
    }
   ],
   "source": [
    "#37\n",
    "# Importing the NumPy library with an alias 'np'\n",
    "import numpy as np\n",
    "\n",
    "# Importing the 'os' module for operating system-dependent functionality\n",
    "import os\n",
    "\n",
    "# Creating a NumPy array 'x' with integers from 0 to 11 and reshaping it to a 4x3 matrix using np.arange() and .reshape()\n",
    "x = np.arange(12).reshape(4, 3)\n",
    "\n",
    "# Printing a message indicating the original array 'x'\n",
    "print(\"Original array:\")\n",
    "print(x)\n",
    "\n",
    "# Creating a string 'header' containing column names 'col1 col2 col3'\n",
    "header = 'col1 col2 col3'\n",
    "\n",
    "# Saving the array 'x' into a text file named 'temp.txt' using np.savetxt()\n",
    "# Specifying the format as \"%d\" (integer) and including a header with column names\n",
    "np.savetxt('temp.txt', x, fmt=\"%d\", header=header)\n",
    "\n",
    "# Printing a message indicating the content of the text file after loading\n",
    "print(\"After loading, content of the text file:\")\n",
    "\n",
    "# Loading the data from 'temp.txt' into the variable 'result' using np.loadtxt()\n",
    "result = np.loadtxt('temp.txt')\n",
    "\n",
    "# Printing the loaded data 'result' from the text file\n",
    "print(result) "
   ]
  },
  {
   "cell_type": "code",
   "execution_count": 6,
   "metadata": {},
   "outputs": [
    {
     "name": "stdout",
     "output_type": "stream",
     "text": [
      "Original array:\n",
      "[1 2 3 4 5 6]\n",
      "After loading, content of the text file:\n",
      "[1 2 3 4 5 6]\n",
      "True\n"
     ]
    }
   ],
   "source": [
    "#38\n",
    "# Importing the NumPy library with an alias 'np'\n",
    "import numpy as np\n",
    "\n",
    "# Importing the 'os' module for operating system-dependent functionality\n",
    "import os\n",
    "\n",
    "# Creating a NumPy array 'a' containing integers from 1 to 6\n",
    "a = np.array([1, 2, 3, 4, 5, 6])\n",
    "\n",
    "# Printing a message indicating the original array 'a'\n",
    "print(\"Original array:\")\n",
    "print(a)\n",
    "\n",
    "# Converting the array 'a' to bytes using a.tobytes() method and storing it in 'a_bytes'\n",
    "a_bytes = a.tobytes()\n",
    "\n",
    "# Creating a new NumPy array 'a2' by reading from 'a_bytes' using np.frombuffer()\n",
    "# Specifying the datatype of 'a2' as the same as 'a' using a.dtype\n",
    "a2 = np.frombuffer(a_bytes, dtype=a.dtype)\n",
    "\n",
    "# Printing a message indicating the content of the array after loading from bytes\n",
    "print(\"After loading, content of the text file:\")\n",
    "print(a2)\n",
    "\n",
    "# Checking if both arrays 'a' and 'a2' are equal using np.array_equal()\n",
    "print(np.array_equal(a, a2)) "
   ]
  },
  {
   "cell_type": "code",
   "execution_count": 8,
   "metadata": {},
   "outputs": [
    {
     "name": "stdout",
     "output_type": "stream",
     "text": [
      "True\n"
     ]
    }
   ],
   "source": [
    "#39\n",
    "a=[[1,2],[3,4]]\n",
    "x=np.array(a)\n",
    "ad=x.tolist()\n",
    "print(a==ad)"
   ]
  },
  {
   "cell_type": "code",
   "execution_count": 88,
   "metadata": {},
   "outputs": [],
   "source": [
    "#40\n",
    "import matplotlib.pyplot as plt\n",
    "\n",
    "x = np.arange(0, 3 * np.pi, 0.2)\n",
    "y = np.sin(x)\n",
    "print(\"Plot the points using matplotlib:\")\n",
    "plt.plot(x, y)\n",
    "plt.show() "
   ]
  },
  {
   "cell_type": "code",
   "execution_count": 9,
   "metadata": {},
   "outputs": [
    {
     "name": "stdout",
     "output_type": "stream",
     "text": [
      "<class 'numpy.float32'>\n",
      "<class 'float'>\n"
     ]
    }
   ],
   "source": [
    "#41\n",
    "\n",
    "x = np.float32(0)\n",
    "print(type(x))\n",
    "a = x.item()\n",
    "print(type(a)) "
   ]
  },
  {
   "cell_type": "code",
   "execution_count": 10,
   "metadata": {},
   "outputs": [
    {
     "name": "stdout",
     "output_type": "stream",
     "text": [
      "14\n"
     ]
    }
   ],
   "source": [
    "#42\n",
    "def sum_matrix_elements(m):\n",
    "    arr=np.array(m)\n",
    "    elements=0\n",
    "\n",
    "    for p in range(len(arr)):\n",
    "        for q in range(len(arr[p])):\n",
    "            if arr[p][q]==0 and p <len(arr)-1:\n",
    "                arr[p+1][q]=0\n",
    "\n",
    "            elements+=arr[p][q]\n",
    "    \n",
    "    return elements\n",
    "\n",
    "m = [[1, 1, 0, 2],\n",
    "     [0, 3, 0, 3],\n",
    "     [1, 0, 4, 4]]\n",
    "\n",
    "print(sum_matrix_elements(m))"
   ]
  },
  {
   "cell_type": "code",
   "execution_count": 4,
   "metadata": {},
   "outputs": [
    {
     "name": "stdout",
     "output_type": "stream",
     "text": [
      "[[False  True False]\n",
      " [False False False]\n",
      " [False  True False]]\n"
     ]
    }
   ],
   "source": [
    "#43\n",
    "import numpy as np\n",
    "\n",
    "p=np.array([[1,np.nan,3],[4,5,6],[7,np.nan,9]])\n",
    "print(np.isnan(p))"
   ]
  },
  {
   "cell_type": "code",
   "execution_count": 7,
   "metadata": {},
   "outputs": [
    {
     "name": "stdout",
     "output_type": "stream",
     "text": [
      "[[False  True  True]\n",
      " [ True  True False]]\n"
     ]
    }
   ],
   "source": [
    "#44\n",
    "y=np.array([[2,2,3],[4,5,7]])\n",
    "x=np.array([[1,2,3],[4,5,6]])\n",
    "print(np.equal(x,y))"
   ]
  },
  {
   "cell_type": "code",
   "execution_count": 8,
   "metadata": {},
   "outputs": [
    {
     "name": "stdout",
     "output_type": "stream",
     "text": [
      "[1 2 3 4 5 6 7 8 9]\n",
      "--------------------\n",
      "[10 11 12 13 14 15 16 17 18 19 20 21 22 23 24 25 26 27 28 29 30 31 32 33\n",
      " 34 35 36 37 38 39 40 41 42 43 44 45 46 47 48 49 50 51 52 53 54 55 56 57\n",
      " 58 59 60 61 62 63 64 65 66 67 68 69 70 71 72 73 74 75 76 77 78 79 80 81\n",
      " 82 83 84 85 86 87 88 89 90 91 92 93 94 95 96 97 98 99]\n",
      "--------------------\n",
      "[100 101 102 103 104 105 106 107 108 109 110 111 112 113 114 115 116 117\n",
      " 118 119 120 121 122 123 124 125 126 127 128 129 130 131 132 133 134 135\n",
      " 136 137 138 139 140 141 142 143 144 145 146 147 148 149 150 151 152 153\n",
      " 154 155 156 157 158 159 160 161 162 163 164 165 166 167 168 169 170 171\n",
      " 172 173 174 175 176 177 178 179 180 181 182 183 184 185 186 187 188 189\n",
      " 190 191 192 193 194 195 196 197 198 199]\n",
      "--------------------\n"
     ]
    }
   ],
   "source": [
    "#45\n",
    "single=np.arange(1,10)\n",
    "double=np.arange(10,100)\n",
    "triple=np.arange(100,200)\n",
    "print(single)\n",
    "print(\"-\"*20)\n",
    "print(double)\n",
    "print(\"-\"*20)\n",
    "print(triple)\n",
    "print(\"-\"*20)"
   ]
  },
  {
   "cell_type": "code",
   "execution_count": 11,
   "metadata": {},
   "outputs": [
    {
     "data": {
      "text/plain": [
       "array([[ 1,  2,  3,  4],\n",
       "       [ 5,  6,  7,  8],\n",
       "       [ 9, 10, 11, 12]])"
      ]
     },
     "execution_count": 11,
     "metadata": {},
     "output_type": "execute_result"
    }
   ],
   "source": [
    "#46\n",
    "d=np.arange(1,13).reshape(3,4)\n",
    "d"
   ]
  },
  {
   "cell_type": "code",
   "execution_count": 12,
   "metadata": {},
   "outputs": [
    {
     "name": "stdout",
     "output_type": "stream",
     "text": [
      "[0.77132064 0.02075195 0.63364823 0.74880388 0.49850701 0.22479665\n",
      " 0.19806286 0.76053071 0.16911084 0.08833981 0.68535982 0.95339335\n",
      " 0.00394827 0.51219226 0.81262096 0.61252607 0.72175532 0.29187607\n",
      " 0.91777412 0.71457578 0.54254437 0.14217005 0.37334076 0.67413362\n",
      " 0.44183317 0.43401399 0.61776698 0.51313824 0.65039718 0.60103895\n",
      " 0.8052232  0.52164715 0.90864888 0.31923609 0.09045935 0.30070006\n",
      " 0.11398436 0.82868133 0.04689632 0.62628715]\n"
     ]
    }
   ],
   "source": [
    "#47\n",
    "np.random.seed(10)\n",
    "\n",
    "print(np.random.rand(40)) "
   ]
  },
  {
   "cell_type": "code",
   "execution_count": 13,
   "metadata": {},
   "outputs": [
    {
     "name": "stdout",
     "output_type": "stream",
     "text": [
      "[[201.6908267  200.37467631 200.68394275 195.51750123]\n",
      " [197.92478992 201.07066048 201.79714021 198.1282331 ]\n",
      " [200.96238963 200.77744291 200.61875865 199.05613894]\n",
      " [198.48492638 198.38860811 197.55239946 200.47003621]\n",
      " [199.91545839 202.99877319 202.01069857 200.77735483]\n",
      " [199.67739161 193.89831807 202.14273593 202.54951299]\n",
      " [199.53450969 199.7512602  199.79145727 202.97687757]\n",
      " [200.24634413 196.04606934 198.30611253 197.88701546]\n",
      " [201.78450912 203.94032834 198.21152803 196.91446071]\n",
      " [201.0082481  197.03285104 200.63052763 197.82590294]]\n"
     ]
    }
   ],
   "source": [
    "#48 \n",
    "# ?\n",
    "\n",
    "np.random.seed(20) \n",
    "cbrt = np.cbrt(7)\n",
    "nd1 = 200 \n",
    "print(cbrt * np.random.randn(10, 4) + nd1)   "
   ]
  },
  {
   "cell_type": "code",
   "execution_count": 99,
   "metadata": {},
   "outputs": [],
   "source": [
    "#49\n",
    "\n",
    "print(np.random.choice(7, 5))\n",
    "print(np.random.choice(7, 5, replace=False))\n",
    "print(\"\\nGenerate a non-uniform random sample with replacement:\") \n",
    "print(np.random.choice(7, 5, p=[0.1, 0.2, 0, 0.2, 0.4, 0, 0.1]))\n",
    "print(np.random.choice(7, 5, replace=False, p=[0.1, 0.2, 0, 0.2, 0.4, 0, 0.1]))   \n"
   ]
  },
  {
   "cell_type": "code",
   "execution_count": 16,
   "metadata": {},
   "outputs": [
    {
     "name": "stdout",
     "output_type": "stream",
     "text": [
      "[[ 0  1  2  3]\n",
      " [ 4  5  6  7]\n",
      " [ 8  9 10 11]\n",
      " [12 13 14 15]]\n",
      "----------\n",
      "[[12 13 14 15]\n",
      " [ 4  5  6  7]\n",
      " [ 8  9 10 11]\n",
      " [ 0  1  2  3]]\n"
     ]
    }
   ],
   "source": [
    "#50\n",
    "nums = np.arange(16, dtype='int').reshape(-1, 4)\n",
    "print(nums)\n",
    "nums[[0,-1],:] = nums[[-1,0],:]\n",
    "print(\"-\"*10)\n",
    "print(nums) "
   ]
  },
  {
   "cell_type": "code",
   "execution_count": 19,
   "metadata": {},
   "outputs": [
    {
     "data": {
      "text/plain": [
       "array([[0, 0, 0, 0, 0, 0],\n",
       "       [0, 0, 0, 0, 0, 0],\n",
       "       [0, 0, 0, 0, 0, 0],\n",
       "       [0, 0, 0, 0, 0, 0],\n",
       "       [0, 0, 0, 0, 0, 0]], dtype=int8)"
      ]
     },
     "execution_count": 19,
     "metadata": {},
     "output_type": "execute_result"
    }
   ],
   "source": [
    "#51\n",
    "np.zeros((5,6),dtype='int8')"
   ]
  },
  {
   "cell_type": "code",
   "execution_count": 27,
   "metadata": {},
   "outputs": [
    {
     "name": "stdout",
     "output_type": "stream",
     "text": [
      "[[5.54 3.38 7.99]\n",
      " [3.54 4.38 6.99]\n",
      " [1.54 2.39 9.29]]\n",
      "--------------------\n",
      "[[3.38 5.54 7.99]\n",
      " [3.54 4.38 6.99]\n",
      " [1.54 2.39 9.29]]\n",
      "--------------------\n",
      "[[1.54 2.39 6.99]\n",
      " [3.54 3.38 7.99]\n",
      " [5.54 4.38 9.29]]\n"
     ]
    }
   ],
   "source": [
    "#52\n",
    "num=np.array([[5.54, 3.38, 7.99],\n",
    "              [3.54, 4.38, 6.99],\n",
    "              [1.54, 2.39, 9.29]])\n",
    "print(num)\n",
    "print(\"-\"*20)\n",
    "print (np.sort(num))\n",
    "print(\"-\"*20)\n",
    "print(np.sort(num, axis=0))"
   ]
  },
  {
   "cell_type": "code",
   "execution_count": 103,
   "metadata": {},
   "outputs": [],
   "source": [
    "#53\n",
    "nums = np.array([[5.54, 3.38, 7.99],\n",
    "              [3.54, 4.38, 6.99],\n",
    "              [1.54, 2.39, 9.29]])\n"
   ]
  },
  {
   "cell_type": "code",
   "execution_count": 5,
   "metadata": {},
   "outputs": [
    {
     "name": "stdout",
     "output_type": "stream",
     "text": [
      "[6 7 8 9]\n",
      "[1 2 3]\n"
     ]
    }
   ],
   "source": [
    "#54\n",
    "import numpy as np\n",
    "num=np.array([1,2,3,5,6,7,8,9])\n",
    "n=5\n",
    "print(num[num>n])\n",
    "print(num[num<n])"
   ]
  },
  {
   "cell_type": "code",
   "execution_count": 6,
   "metadata": {},
   "outputs": [
    {
     "name": "stdout",
     "output_type": "stream",
     "text": [
      "[[5.54 3.38 7.99]\n",
      " [3.54 8.32 6.99]\n",
      " [1.54 2.39 9.29]]\n",
      "--------------------\n",
      "[[0. 0. 0.]\n",
      " [0. 0. 0.]\n",
      " [0. 0. 0.]]\n"
     ]
    }
   ],
   "source": [
    "#55\n",
    "nums = np.array([[5.54, 3.38, 7.99],\n",
    "              [3.54, 8.32, 6.99],\n",
    "              [1.54, 2.39, 9.29]])\n",
    "\n",
    "print(nums)\n",
    "print(\"-\"*20)\n",
    "print(np.zeros_like(nums))"
   ]
  },
  {
   "cell_type": "code",
   "execution_count": 7,
   "metadata": {},
   "outputs": [],
   "source": [
    "#56\n",
    "nums = np.array([[[1, 5, 2, 1],\n",
    "               [4, 3, 5, 6],\n",
    "               [6, 3, 0, 6],\n",
    "               [7, 3, 5, 0],\n",
    "               [2, 3, 3, 5]],\n",
    "              \n",
    "              [[2, 2, 3, 1],\n",
    "               [4, 0, 0, 5],\n",
    "               [6, 3, 2, 1],\n",
    "               [5, 1, 0, 0],               \n",
    "               [0, 1, 9, 1]],\n",
    "              \n",
    "              [[3, 1, 4, 2],\n",
    "               [4, 1, 6, 0],\n",
    "               [1, 2, 0, 6],\n",
    "               [8, 3, 4, 0],               \n",
    "               [2, 0, 2, 8]]]) "
   ]
  },
  {
   "cell_type": "code",
   "execution_count": 12,
   "metadata": {},
   "outputs": [
    {
     "name": "stdout",
     "output_type": "stream",
     "text": [
      "[[ 0  1  2  3]\n",
      " [ 4  5  6  7]\n",
      " [ 8  9 10 11]\n",
      " [12 13 14 15]]\n",
      "[[ 3  2  1  0]\n",
      " [ 7  6  5  4]\n",
      " [11 10  9  8]\n",
      " [15 14 13 12]]\n"
     ]
    }
   ],
   "source": [
    "#57\n",
    "ok= np.arange(16).reshape(-1,4)\n",
    "new_nums = ok[:, ::-1]\n",
    "print(ok)\n",
    "print(new_nums)"
   ]
  },
  {
   "cell_type": "code",
   "execution_count": 15,
   "metadata": {},
   "outputs": [
    {
     "name": "stdout",
     "output_type": "stream",
     "text": [
      "Original array:\n",
      "[[[ 1  2  3  4]\n",
      "  [ 0  1  3  4]\n",
      "  [90 91 93 94]\n",
      "  [ 5  0  3  2]]]\n",
      "                    \n",
      "[[[ 5  0  3  2]\n",
      "  [90 91 93 94]\n",
      "  [ 0  1  3  4]\n",
      "  [ 1  2  3  4]]]\n"
     ]
    }
   ],
   "source": [
    "#58\n",
    "nums = np.array([[[1, 2, 3, 4],\n",
    "               [0, 1, 3, 4],\n",
    "               [90, 91, 93, 94],\n",
    "               [5, 0, 3, 2]]])\n",
    "print(\"Original array:\")\n",
    "print(nums)\n",
    "print(\" \"*20)\n",
    "new_nums = nums[::-1, ::-1]\n",
    "print(new_nums)"
   ]
  },
  {
   "cell_type": "code",
   "execution_count": 20,
   "metadata": {},
   "outputs": [
    {
     "name": "stdout",
     "output_type": "stream",
     "text": [
      "[[ 6 10 12 12 10  6]\n",
      " [ 6  6  4 25 36 49]]\n"
     ]
    }
   ],
   "source": [
    "#59\n",
    "arr1=np.array([[1,2,3,4,5,6],[2,3,4,5,6,7]])\n",
    "\n",
    "arr2=np.array([[6,5,4,3,2,1],[3,2,1,5,6,7]])\n",
    "print(arr1*arr2)"
   ]
  },
  {
   "cell_type": "markdown",
   "metadata": {},
   "source": [
    "# Linear Algebra"
   ]
  },
  {
   "cell_type": "code",
   "execution_count": 58,
   "metadata": {},
   "outputs": [
    {
     "name": "stdout",
     "output_type": "stream",
     "text": [
      "[[1 2]\n",
      " [3 4]]\n"
     ]
    }
   ],
   "source": [
    "p = [[1, 0], [0, 1]]\n",
    "q = [[1, 2], [3, 4]]\n",
    "print(np.dot(p,q))"
   ]
  },
  {
   "cell_type": "code",
   "execution_count": 59,
   "metadata": {},
   "outputs": [
    {
     "name": "stdout",
     "output_type": "stream",
     "text": [
      "[[1 2 3 4]\n",
      " [0 0 0 0]\n",
      " [0 0 0 0]\n",
      " [1 2 3 4]]\n"
     ]
    }
   ],
   "source": [
    "p = [[1, 0], [0, 1]]\n",
    "q = [[1, 2], [3, 4]]\n",
    "print(np.outer(p,q))"
   ]
  },
  {
   "cell_type": "code",
   "execution_count": 60,
   "metadata": {},
   "outputs": [
    {
     "name": "stdout",
     "output_type": "stream",
     "text": [
      "[ 2 -3]\n"
     ]
    },
    {
     "name": "stderr",
     "output_type": "stream",
     "text": [
      "C:\\Users\\George Hany\\AppData\\Local\\Temp\\ipykernel_36344\\1696871098.py:3: DeprecationWarning: Arrays of 2-dimensional vectors are deprecated. Use arrays of 3-dimensional vectors instead. (deprecated in NumPy 2.0)\n",
      "  print(np.cross(p,q))\n"
     ]
    }
   ],
   "source": [
    "p = [[1, 0], [0, 1]]\n",
    "q = [[1, 2], [3, 4]]\n",
    "print(np.cross(p,q))"
   ]
  },
  {
   "cell_type": "code",
   "execution_count": 62,
   "metadata": {},
   "outputs": [
    {
     "name": "stdout",
     "output_type": "stream",
     "text": [
      "1.0\n"
     ]
    }
   ],
   "source": [
    "p = [[1, 0], [0, 1]]\n",
    "print(np.linalg.det(p))"
   ]
  },
  {
   "cell_type": "code",
   "execution_count": 3,
   "metadata": {},
   "outputs": [
    {
     "name": "stdout",
     "output_type": "stream",
     "text": [
      "Original 1-d arrays:\n",
      "[1 2 3]\n",
      "[0 1 0]\n",
      "Einstein’s summation convention of the said arrays:\n",
      "2\n",
      "Original Higher dimension:\n",
      "[[0 1 2]\n",
      " [3 4 5]\n",
      " [6 7 8]]\n",
      "[[ 3  4  5]\n",
      " [ 6  7  8]\n",
      " [ 9 10 11]]\n",
      "Einstein’s summation convention of the said arrays:\n",
      "[[ 24  27  30]\n",
      " [ 78  90 102]\n",
      " [132 153 174]]\n"
     ]
    }
   ],
   "source": [
    "import numpy as np\n",
    "#????? \n",
    "\n",
    "\n",
    "a = np.array([1,2,3])\n",
    "b = np.array([0,1,0])\n",
    "\n",
    "# Display the original 1-D arrays 'a' and 'b'\n",
    "print(\"Original 1-d arrays:\")\n",
    "print(a)\n",
    "print(b)\n",
    "\n",
    "# Compute the Einstein’s summation convention of the 1-D arrays 'a' and 'b' using np.einsum()\n",
    "result =  np.einsum(\"n,n\", a, b)\n",
    "print(\"Einstein’s summation convention of the said arrays:\")\n",
    "print(result)\n",
    "\n",
    "# Create two 3x3 arrays 'x' and 'y'\n",
    "x = np.arange(9).reshape(3, 3)\n",
    "y = np.arange(3, 12).reshape(3, 3)\n",
    "\n",
    "# Display the original higher-dimensional arrays 'x' and 'y'\n",
    "print(\"Original Higher dimension:\")\n",
    "print(x)\n",
    "print(y)\n",
    "\n",
    "# Compute the Einstein’s summation convention of the 2-D arrays 'x' and 'y' using np.einsum()\n",
    "result = np.einsum(\"mk,kn\", x, y)\n",
    "print(\"Einstein’s summation convention of the said arrays:\")\n",
    "print(result) "
   ]
  },
  {
   "cell_type": "code",
   "execution_count": 4,
   "metadata": {},
   "outputs": [
    {
     "name": "stdout",
     "output_type": "stream",
     "text": [
      "Original 1-d arrays:\n",
      "[1 2 5]\n",
      "[2 1 0]\n",
      "Inner product of the said vectors:\n",
      "4\n",
      "Higher dimension arrays:\n",
      "[[0 1 2]\n",
      " [3 4 5]\n",
      " [6 7 8]]\n",
      "[[ 3  4  5]\n",
      " [ 6  7  8]\n",
      " [ 9 10 11]]\n",
      "Inner product of the said vectors:\n",
      "[[ 14  23  32]\n",
      " [ 50  86 122]\n",
      " [ 86 149 212]]\n"
     ]
    }
   ],
   "source": [
    "#??? \n",
    "\n",
    "# Create two 1-D arrays 'a' and 'b'\n",
    "a = np.array([1, 2, 5])\n",
    "b = np.array([2, 1, 0])\n",
    "\n",
    "# Display the original 1-D arrays 'a' and 'b'\n",
    "print(\"Original 1-d arrays:\")\n",
    "print(a)\n",
    "print(b)\n",
    "\n",
    "# Calculate the inner product of arrays 'a' and 'b' using np.inner()\n",
    "result = np.inner(a, b)\n",
    "\n",
    "# Display the inner product of the said vectors\n",
    "print(\"Inner product of the said vectors:\")\n",
    "print(result)\n",
    "\n",
    "# Create two 3x3 arrays 'x' and 'y'\n",
    "x = np.arange(9).reshape(3, 3)\n",
    "y = np.arange(3, 12).reshape(3, 3)\n",
    "\n",
    "# Display the original higher-dimensional arrays 'x' and 'y'\n",
    "print(\"Higher dimension arrays:\")\n",
    "print(x)\n",
    "print(y)\n",
    "\n",
    "# Calculate the inner product of arrays 'x' and 'y' using np.inner()\n",
    "result = np.inner(x, y)\n",
    "\n",
    "# Display the inner product of the said vectors\n",
    "print(\"Inner product of the said vectors:\")\n",
    "print(result) \n"
   ]
  },
  {
   "cell_type": "code",
   "execution_count": 6,
   "metadata": {},
   "outputs": [
    {
     "name": "stdout",
     "output_type": "stream",
     "text": [
      "Original matrix:\n",
      "a\n",
      " [[ 3 -2]\n",
      " [ 1  0]]\n",
      "Eigenvalues of the said matrix [2. 1.]\n",
      "Eigenvectors of the said matrix [[0.89442719 0.70710678]\n",
      " [0.4472136  0.70710678]]\n"
     ]
    }
   ],
   "source": [
    "#???\n",
    "\n",
    "# Create a matrix 'm' using np.mat() function\n",
    "m = np.asmatrix(\"3 -2; 1 0\")\n",
    "\n",
    "# Display the original matrix 'm'\n",
    "print(\"Original matrix:\")\n",
    "print(\"a\\n\", m)\n",
    "\n",
    "# Compute the eigenvalues and eigenvectors of the matrix 'm' using np.linalg.eig() function\n",
    "w, v = np.linalg.eig(m)\n",
    "\n",
    "# Display the eigenvalues of the said matrix\n",
    "print(\"Eigenvalues of the said matrix\", w)\n",
    "\n",
    "# Display the eigenvectors of the said matrix\n",
    "print(\"Eigenvectors of the said matrix\", v) \n"
   ]
  },
  {
   "cell_type": "code",
   "execution_count": 7,
   "metadata": {},
   "outputs": [
    {
     "name": "stdout",
     "output_type": "stream",
     "text": [
      "Original 1-d arrays:\n",
      "[1 2 3]\n",
      "[0 1 0]\n",
      "Kronecker product of the said arrays:\n",
      "[0 1 0 0 2 0 0 3 0]\n",
      "Original Higher dimension:\n",
      "[[0 1 2]\n",
      " [3 4 5]\n",
      " [6 7 8]]\n",
      "[[ 3  4  5]\n",
      " [ 6  7  8]\n",
      " [ 9 10 11]]\n",
      "Kronecker product of the said arrays:\n",
      "[[ 0  0  0  3  4  5  6  8 10]\n",
      " [ 0  0  0  6  7  8 12 14 16]\n",
      " [ 0  0  0  9 10 11 18 20 22]\n",
      " [ 9 12 15 12 16 20 15 20 25]\n",
      " [18 21 24 24 28 32 30 35 40]\n",
      " [27 30 33 36 40 44 45 50 55]\n",
      " [18 24 30 21 28 35 24 32 40]\n",
      " [36 42 48 42 49 56 48 56 64]\n",
      " [54 60 66 63 70 77 72 80 88]]\n"
     ]
    }
   ],
   "source": [
    "#???\n",
    "\n",
    "# Create two 1-dimensional arrays 'a' and 'b'\n",
    "a = np.array([1, 2, 3])\n",
    "b = np.array([0, 1, 0])\n",
    "\n",
    "# Display the original 1-d arrays 'a' and 'b'\n",
    "print(\"Original 1-d arrays:\")\n",
    "print(a)\n",
    "print(b)\n",
    "\n",
    "# Compute the Kronecker product of the arrays 'a' and 'b' using np.kron() function\n",
    "result = np.kron(a, b)\n",
    "\n",
    "# Display the Kronecker product of the said arrays\n",
    "print(\"Kronecker product of the said arrays:\")\n",
    "print(result)\n",
    "\n",
    "# Create two 3x3 arrays 'x' and 'y'\n",
    "x = np.arange(9).reshape(3, 3)\n",
    "y = np.arange(3, 12).reshape(3, 3)\n",
    "\n",
    "# Display the original higher dimension arrays 'x' and 'y'\n",
    "print(\"Original Higher dimension:\")\n",
    "print(x)\n",
    "print(y)\n",
    "\n",
    "# Compute the Kronecker product of the arrays 'x' and 'y' using np.kron() function\n",
    "result = np.kron(x, y)\n",
    "\n",
    "# Display the Kronecker product of the said arrays\n",
    "print(\"Kronecker product of the said arrays:\")\n",
    "print(result) \n"
   ]
  },
  {
   "cell_type": "code",
   "execution_count": 9,
   "metadata": {},
   "outputs": [
    {
     "name": "stdout",
     "output_type": "stream",
     "text": [
      "Original matrix:\n",
      "[[ 1  0 -1]\n",
      " [ 0  1  0]\n",
      " [ 1  0  1]]\n",
      "The condition number of the said matrix:\n",
      "1.4142135623730951\n"
     ]
    }
   ],
   "source": [
    "#??? \n",
    "\n",
    "# Import 'linalg' module from NumPy and alias it as 'LA'\n",
    "from numpy import linalg as LA\n",
    "\n",
    "# Create a 3x3 NumPy array 'a'\n",
    "a = np.array([[1, 0, -1], [0, 1, 0], [1, 0, 1]])\n",
    "\n",
    "# Display the original matrix 'a'\n",
    "print(\"Original matrix:\")\n",
    "print(a)\n",
    "\n",
    "# Calculate and display the condition number of the matrix 'a' using LA.cond() function\n",
    "print(\"The condition number of the said matrix:\")\n",
    "print(LA.cond(a))\n"
   ]
  },
  {
   "cell_type": "code",
   "execution_count": 10,
   "metadata": {},
   "outputs": [
    {
     "name": "stdout",
     "output_type": "stream",
     "text": [
      "Vector norm:\n",
      "9.539392014169456\n",
      "Matrix norm:\n",
      "5.477225575051661\n"
     ]
    }
   ],
   "source": [
    "\n",
    "# Create a NumPy array 'v' containing elements from 0 to 6\n",
    "v = np.arange(7)\n",
    "\n",
    "# Calculate the L2 norm (Euclidean norm) of the vector 'v'\n",
    "result = np.linalg.norm(v)\n",
    "\n",
    "# Display the computed L2 norm of the vector 'v'\n",
    "print(\"Vector norm:\")\n",
    "print(result)\n",
    "\n",
    "# Create a 2x2 matrix 'm' using the np.matrix function\n",
    "m = np.matrix('1, 2; 3, 4') \n",
    "\n",
    "# Calculate the Frobenius norm of the matrix 'm'\n",
    "result1 = np.linalg.norm(m)\n",
    "\n",
    "# Display the computed Frobenius norm of the matrix 'm'\n",
    "print(\"Matrix norm:\")\n",
    "print(result1)\n"
   ]
  },
  {
   "cell_type": "code",
   "execution_count": 11,
   "metadata": {},
   "outputs": [
    {
     "name": "stdout",
     "output_type": "stream",
     "text": [
      "Original array:\n",
      "[[1 2]\n",
      " [3 4]]\n",
      "Determinant of the said array:\n",
      "-2.0000000000000004\n"
     ]
    }
   ],
   "source": [
    "# Import the NumPy library and alias it as 'np'\n",
    "import numpy as np\n",
    "\n",
    "# Create a 2x2 NumPy array 'a' containing specific values\n",
    "a = np.array([[1,2],[3,4]])\n",
    "\n",
    "# Display the original array 'a'\n",
    "print(\"Original array:\")\n",
    "print(a)\n",
    "\n",
    "# Calculate the determinant of the array 'a' using np.linalg.det() function\n",
    "result =  np.linalg.det(a)\n",
    "\n",
    "# Display the determinant of the array 'a'\n",
    "print(\"Determinant of the said array:\")\n",
    "print(result) \n"
   ]
  },
  {
   "cell_type": "code",
   "execution_count": 13,
   "metadata": {},
   "outputs": [
    {
     "name": "stdout",
     "output_type": "stream",
     "text": [
      "Original matrix:\n",
      "[[1 2]\n",
      " [3 4]]\n",
      "Inverse of the said matrix:\n",
      "[[-2.   1. ]\n",
      " [ 1.5 -0.5]]\n"
     ]
    }
   ],
   "source": [
    "#>???????\n",
    "\n",
    "# Create a 2x2 NumPy array 'm' containing specific values\n",
    "m = np.array([[1,2],[3,4]])\n",
    "\n",
    "# Display the original matrix 'm'\n",
    "print(\"Original matrix:\")\n",
    "print(m)\n",
    "\n",
    "# Calculate the inverse of the matrix 'm' using np.linalg.inv() function\n",
    "result =  np.linalg.inv(m)\n",
    "\n",
    "# Display the inverse of the matrix 'm'\n",
    "print(\"Inverse of the said matrix:\")\n",
    "print(result) \n"
   ]
  },
  {
   "cell_type": "code",
   "execution_count": 14,
   "metadata": {},
   "outputs": [
    {
     "name": "stdout",
     "output_type": "stream",
     "text": [
      "Original matrix:\n",
      "[[1 2]\n",
      " [3 4]]\n",
      "Decomposition of the said matrix:\n",
      "QRResult(Q=array([[-0.31622777, -0.9486833 ],\n",
      "       [-0.9486833 ,  0.31622777]]), R=array([[-3.16227766, -4.42718872],\n",
      "       [ 0.        , -0.63245553]]))\n"
     ]
    }
   ],
   "source": [
    "#?????\n",
    "\n",
    "# Importing the NumPy library\n",
    "import numpy as np\n",
    "\n",
    "# Create a 2x2 NumPy array 'm' containing specific values\n",
    "m = np.array([[1, 2], [3, 4]])\n",
    "\n",
    "# Display the original matrix 'm'\n",
    "print(\"Original matrix:\")\n",
    "print(m)\n",
    "\n",
    "# Perform QR decomposition on the matrix 'm' using np.linalg.qr() function\n",
    "result = np.linalg.qr(m)\n",
    "\n",
    "# Display the QR decomposition of the matrix 'm'\n",
    "print(\"Decomposition of the said matrix:\")\n",
    "print(result) \n"
   ]
  },
  {
   "cell_type": "code",
   "execution_count": 16,
   "metadata": {},
   "outputs": [
    {
     "name": "stdout",
     "output_type": "stream",
     "text": [
      "Original matrix:\n",
      "[[1 2]\n",
      " [3 4]]\n",
      "Decomposition of the said matrix:\n",
      "QRResult(Q=array([[-0.31622777, -0.9486833 ],\n",
      "       [-0.9486833 ,  0.31622777]]), R=array([[-3.16227766, -4.42718872],\n",
      "       [ 0.        , -0.63245553]]))\n"
     ]
    }
   ],
   "source": [
    "#???????\n",
    "\n",
    "# Create a 2x2 NumPy array 'm' containing specific values\n",
    "m = np.array([[1, 2], [3, 4]])\n",
    "\n",
    "# Display the original matrix 'm'\n",
    "print(\"Original matrix:\")\n",
    "print(m)\n",
    "\n",
    "# Perform QR decomposition on the matrix 'm' using np.linalg.qr() function\n",
    "result = np.linalg.qr(m)\n",
    "\n",
    "# Display the QR decomposition of the matrix 'm'\n",
    "print(\"Decomposition of the said matrix:\")\n",
    "print(result) \n"
   ]
  },
  {
   "cell_type": "markdown",
   "metadata": {},
   "source": [
    "# NUMPY RANDOM EXERCISES"
   ]
  },
  {
   "cell_type": "code",
   "execution_count": 19,
   "metadata": {},
   "outputs": [
    {
     "data": {
      "text/plain": [
       "array([-1.32201543, -1.60124489,  0.16277668, -0.17622247,  0.32039291])"
      ]
     },
     "execution_count": 19,
     "metadata": {},
     "output_type": "execute_result"
    }
   ],
   "source": [
    "x=np.random.normal(size=5)\n",
    "x"
   ]
  },
  {
   "cell_type": "code",
   "execution_count": 21,
   "metadata": {},
   "outputs": [
    {
     "data": {
      "text/plain": [
       "array([11, 27, 26, 29, 24, 21], dtype=int32)"
      ]
     },
     "execution_count": 21,
     "metadata": {},
     "output_type": "execute_result"
    }
   ],
   "source": [
    "x=np.random.randint(10,30,6)\n",
    "x"
   ]
  },
  {
   "cell_type": "code",
   "execution_count": 28,
   "metadata": {},
   "outputs": [
    {
     "data": {
      "text/plain": [
       "array([[[0.4139063 , 0.19101721, 0.00656313],\n",
       "        [0.27994952, 0.93930492, 0.96818096],\n",
       "        [0.30559222, 0.10417465, 0.12350528]],\n",
       "\n",
       "       [[0.53126551, 0.56494986, 0.68000117],\n",
       "        [0.99098975, 0.78985009, 0.94628801],\n",
       "        [0.50317819, 0.13098475, 0.92151338]],\n",
       "\n",
       "       [[0.20787913, 0.90867132, 0.06206208],\n",
       "        [0.85172175, 0.23557876, 0.74686177],\n",
       "        [0.954131  , 0.88234415, 0.22098692]]])"
      ]
     },
     "execution_count": 28,
     "metadata": {},
     "output_type": "execute_result"
    }
   ],
   "source": [
    "x=np.random.random((3,3,3))\n",
    "x"
   ]
  },
  {
   "cell_type": "code",
   "execution_count": 34,
   "metadata": {},
   "outputs": [
    {
     "name": "stdout",
     "output_type": "stream",
     "text": [
      "[[0.83560076 0.60005324 0.03328921 0.01253735 0.29601332]\n",
      " [0.30042001 0.75720128 0.77879497 0.53120279 0.07281786]\n",
      " [0.36365833 0.65573985 0.22053176 0.62374668 0.10365241]\n",
      " [0.25429208 0.65355724 0.71999234 0.07450036 0.73757052]\n",
      " [0.86823574 0.56891085 0.58475211 0.26548121 0.99163331]]\n",
      "0.012537351341126435\n",
      "0.012537351341126435\n",
      "0.9916333091475815\n",
      "0.9916333091475815\n"
     ]
    }
   ],
   "source": [
    "x=np.random.random((5,5))\n",
    "print(x)\n",
    "print(np.min(x))\n",
    "print(x.min())\n",
    "print(np.max(x))\n",
    "print(x.max())\n"
   ]
  },
  {
   "cell_type": "code",
   "execution_count": 35,
   "metadata": {},
   "outputs": [
    {
     "name": "stdout",
     "output_type": "stream",
     "text": [
      "Original array:\n",
      "[[0.16786231 0.85022531 0.17543617 0.02286662]\n",
      " [0.95435782 0.83117318 0.13709268 0.26649195]\n",
      " [0.51460746 0.28676052 0.9941193  0.03028179]\n",
      " [0.75439969 0.38701327 0.61998265 0.46404087]\n",
      " [0.47076577 0.39316631 0.73506314 0.78985092]\n",
      " [0.72054972 0.0403443  0.97850024 0.60479531]\n",
      " [0.6209225  0.333235   0.13494232 0.24528393]\n",
      " [0.24766596 0.86918252 0.7443181  0.56024482]\n",
      " [0.50193499 0.76808673 0.82846243 0.70425872]\n",
      " [0.07568672 0.45730113 0.69930164 0.68111421]]\n",
      "First 5 rows of the above array:\n",
      "[[0.16786231 0.85022531 0.17543617 0.02286662]\n",
      " [0.95435782 0.83117318 0.13709268 0.26649195]\n",
      " [0.51460746 0.28676052 0.9941193  0.03028179]\n",
      " [0.75439969 0.38701327 0.61998265 0.46404087]\n",
      " [0.47076577 0.39316631 0.73506314 0.78985092]]\n"
     ]
    }
   ],
   "source": [
    "x = np.random.rand(10, 4)\n",
    "\n",
    "# Printing the original array 'x'\n",
    "print(\"Original array:\")\n",
    "print(x)\n",
    "\n",
    "# Selecting the first 5 rows of the array 'x' and storing it in variable 'y' using array slicing\n",
    "y = x[:5, :]\n",
    "\n",
    "# Printing the first 5 rows of the original array 'x' stored in 'y'\n",
    "print(\"First 5 rows of the above array:\")\n",
    "print(y) "
   ]
  },
  {
   "cell_type": "code",
   "execution_count": 36,
   "metadata": {},
   "outputs": [
    {
     "name": "stdout",
     "output_type": "stream",
     "text": [
      "[4 0 8 9 5 2 6 3 1 7]\n"
     ]
    }
   ],
   "source": [
    "\n",
    "\n",
    "x = np.arange(10)\n",
    "\n",
    "\n",
    "np.random.shuffle(x)\n",
    "print(x)\n"
   ]
  },
  {
   "cell_type": "code",
   "execution_count": 39,
   "metadata": {},
   "outputs": [
    {
     "name": "stdout",
     "output_type": "stream",
     "text": [
      "[[0.4133784  0.24400835 0.27744081]\n",
      " [0.99045282 0.57379043 0.06446631]\n",
      " [0.19205991 0.31755084 0.53144474]]\n",
      "[[0.3768004  0.19389271 0.2299974 ]\n",
      " [1.         0.55003406 0.        ]\n",
      " [0.13779207 0.27331341 0.50430371]]\n"
     ]
    }
   ],
   "source": [
    "x = np.random.random((3, 3))\n",
    "print(x)\n",
    "xmax, xmin = x.max(), x.min()\n",
    "x = (x - xmin) / (xmax - xmin)\n",
    "print(x) "
   ]
  },
  {
   "cell_type": "code",
   "execution_count": 41,
   "metadata": {},
   "outputs": [
    {
     "name": "stdout",
     "output_type": "stream",
     "text": [
      "[0.0330555  0.14428147 0.27662874 0.28309606 0.33945046 0.42780008\n",
      " 0.54181412 0.56487659 0.61728679 0.85253544]\n"
     ]
    }
   ],
   "source": [
    "x = np.random.random(10)\n",
    "x.sort()\n",
    "print(x)"
   ]
  },
  {
   "cell_type": "code",
   "execution_count": 43,
   "metadata": {},
   "outputs": [
    {
     "name": "stdout",
     "output_type": "stream",
     "text": [
      "4.499660581903197\n"
     ]
    }
   ],
   "source": [
    "#?????\n",
    "x = np.random.uniform(1, 12, 5)\n",
    "v = 4\n",
    "\n",
    "# Finding the value 'n' in 'x' that is closest to 'v'\n",
    "# Using np.abs(x - v).argmin() to get the index of the element in 'x' closest to 'v'\n",
    "# Accessing the element using x.flat[index] to get the closest value 'n'\n",
    "n = x.flat[np.abs(x - v).argmin()]\n",
    "\n",
    "# Printing the value 'n' that is closest to 'v'\n",
    "print(n) \n"
   ]
  },
  {
   "cell_type": "code",
   "execution_count": 56,
   "metadata": {},
   "outputs": [
    {
     "name": "stdout",
     "output_type": "stream",
     "text": [
      "[0 1]\n",
      "[0 2]\n",
      "[ True False]\n"
     ]
    }
   ],
   "source": [
    "x=np.random.randint((1,5))\n",
    "print(x)\n",
    "y=np.random.randint((1,5))\n",
    "print(y)\n",
    "print(np.equal(x,y))"
   ]
  },
  {
   "cell_type": "code",
   "execution_count": 58,
   "metadata": {},
   "outputs": [
    {
     "name": "stdout",
     "output_type": "stream",
     "text": [
      "[0.47723807 0.7515247  0.85090466 0.00552885 0.52636304 0.64022845\n",
      " 0.99218985 0.58584546 0.75613284 0.02985105 0.37625827 0.29558159\n",
      " 0.28242698 0.6057739  0.60747468]\n",
      "[ 0.47723807  0.7515247   0.85090466  0.00552885  0.52636304  0.64022845\n",
      " -1.          0.58584546  0.75613284  0.02985105  0.37625827  0.29558159\n",
      "  0.28242698  0.6057739   0.60747468]\n"
     ]
    }
   ],
   "source": [
    "x=np.random.random(15)\n",
    "print(x)\n",
    "x[x.argmax()]=-1\n",
    "print(x)"
   ]
  },
  {
   "cell_type": "code",
   "execution_count": 60,
   "metadata": {},
   "outputs": [
    {
     "name": "stdout",
     "output_type": "stream",
     "text": [
      "Original array:\n",
      "[8 5 9 1 1 0 7 2 5 9 4 9 7 1 3 7 1 1 7 3 5 0 7 3 6 8 8 8 3 2 5 4 4 4 4 6 0\n",
      " 1 7 5]\n",
      "1\n"
     ]
    }
   ],
   "source": [
    "x = np.random.randint(0, 10, 40)\n",
    "\n",
    "print(\"Original array:\")\n",
    "print(x)\n",
    "most = np.bincount(x).argmax()\n",
    "print(most)"
   ]
  },
  {
   "cell_type": "code",
   "execution_count": 61,
   "metadata": {},
   "outputs": [
    {
     "name": "stdout",
     "output_type": "stream",
     "text": [
      "[1.02645195 1.05502234 1.28868152 1.0193787  0.4858836  0.78010665\n",
      " 0.38580513 0.61199337 1.30819332 0.33008167]\n",
      "[0.93529167 1.21079009 0.76926852 0.35951009 0.42080233 1.40463069\n",
      " 0.79369357 1.48789112 0.8629762  0.51694182]\n"
     ]
    }
   ],
   "source": [
    "#?????\n",
    "\n",
    "\n",
    "# Importing the NumPy library as np\n",
    "import numpy as np\n",
    "\n",
    "# Generating a random 10x2 array 'z' with random numbers between 0 and 1\n",
    "z = np.random.random((10, 2))\n",
    "\n",
    "# Extracting the first column as 'x' and the second column as 'y' from the array 'z'\n",
    "x, y = z[:, 0], z[:, 1]\n",
    "\n",
    "# Calculating the Euclidean distance (r) using the formula sqrt(x^2 + y^2)\n",
    "r = np.sqrt(x**2 + y**2)\n",
    "\n",
    "# Calculating the angles (t) using arctan2() function, which returns the arctangent of y/x in radians\n",
    "t = np.arctan2(y, x)\n",
    "\n",
    "# Displaying the calculated Euclidean distances (r)\n",
    "print(r)\n",
    "\n",
    "# Displaying the calculated angles (t) in radians\n",
    "print(t)\n"
   ]
  },
  {
   "cell_type": "code",
   "execution_count": 62,
   "metadata": {},
   "outputs": [
    {
     "name": "stdout",
     "output_type": "stream",
     "text": [
      "Original array:\n",
      "[ 0  1  2  3  4  5  6  7  8  9 10 11 12 13 14 15 16 17 18 19 20 21 22 23\n",
      " 24 25 26 27 28 29 30 31 32 33 34 35 36 37 38 39 40 41 42 43 44 45 46 47\n",
      " 48 49 50 51 52 53 54 55 56 57 58 59 60 61 62 63 64 65 66 67 68 69 70 71\n",
      " 72 73 74 75 76 77 78 79 80 81 82 83 84 85 86 87 88 89 90 91 92 93 94 95\n",
      " 96 97 98 99]\n",
      "Value to compare:\n",
      "92.64042071697841\n",
      "93\n"
     ]
    }
   ],
   "source": [
    "#????\n",
    "\n",
    "# Creating an array 'x' containing numbers from 0 to 99 using arange() function\n",
    "x = np.arange(100)\n",
    "\n",
    "# Displaying the original array 'x'\n",
    "print(\"Original array:\")\n",
    "print(x)\n",
    "\n",
    "# Generating a random floating-point number 'a' between 0 and 100\n",
    "a = np.random.uniform(0, 100)\n",
    "\n",
    "# Displaying the value used for comparison\n",
    "print(\"Value to compare:\")\n",
    "print(a)\n",
    "\n",
    "# Finding the index of the element in array 'x' closest to the generated value 'a'\n",
    "index = (np.abs(x - a)).argmin()\n",
    "\n",
    "# Displaying the element in 'x' that is closest to the generated value 'a'\n",
    "print(x[index]) \n"
   ]
  },
  {
   "cell_type": "code",
   "execution_count": 63,
   "metadata": {},
   "outputs": [
    {
     "name": "stdout",
     "output_type": "stream",
     "text": [
      "Original array:\n",
      "[0 1 2 3 4 5 6 7 8 9]\n",
      "[9]\n"
     ]
    }
   ],
   "source": [
    "\n",
    "# Creating an array 'x' containing numbers from 0 to 9 using arange() function\n",
    "x = np.arange(10)\n",
    "\n",
    "# Displaying the original array 'x'\n",
    "print(\"Original array:\")\n",
    "print(x)\n",
    "\n",
    "# Shuffling the elements in array 'x'\n",
    "np.random.shuffle(x)\n",
    "\n",
    "# Selecting the 'n' largest elements in 'x' using argsort and slicing\n",
    "n = 1\n",
    "print(x[np.argsort(x)[-n:]]) \n"
   ]
  },
  {
   "cell_type": "code",
   "execution_count": 64,
   "metadata": {},
   "outputs": [
    {
     "name": "stdout",
     "output_type": "stream",
     "text": [
      "[[[215  42 224 219  43]\n",
      "  [166  69  15 133 255]\n",
      "  [105  95  54  37 201]\n",
      "  ...\n",
      "  [240  22  66 232 132]\n",
      "  [ 13  85  53 220 170]\n",
      "  [249  62 221 146  69]]\n",
      "\n",
      " [[ 73  79 148 132 164]\n",
      "  [  3  93  98 138 200]\n",
      "  [174  34  31 208 130]\n",
      "  ...\n",
      "  [ 15 252  41  64  39]\n",
      "  [188 216 223 124  27]\n",
      "  [ 85 112 240 116 231]]\n",
      "\n",
      " [[227  50 243  20 171]\n",
      "  [ 12  66 108 102  63]\n",
      "  [107  54   0   0 173]\n",
      "  ...\n",
      "  [215  46  57  99 151]\n",
      "  [243 199  31  28 179]\n",
      "  [143   7  30 175 190]]\n",
      "\n",
      " ...\n",
      "\n",
      " [[214  64  64 212  62]\n",
      "  [140  44 217  17 164]\n",
      "  [226 146 247  53 199]\n",
      "  ...\n",
      "  [189  68  49 117  63]\n",
      "  [ 14  17 109  82  92]\n",
      "  [155 221 135 184 231]]\n",
      "\n",
      " [[132 194 160 136 102]\n",
      "  [132 244 230 117 181]\n",
      "  [146 245  21 164  29]\n",
      "  ...\n",
      "  [125 240 243 190 240]\n",
      "  [137  41 157 117 155]\n",
      "  [ 20  92  72 182  41]]\n",
      "\n",
      " [[120  45 198 218 190]\n",
      "  [ 42 150 190 103 106]\n",
      "  [164  71 220 114  59]\n",
      "  ...\n",
      "  [143  20 219 154  85]\n",
      "  [219 190 170 227 246]\n",
      "  [ 39  14 127 230 158]]]\n"
     ]
    }
   ],
   "source": [
    "#?????? \n",
    "# Importing NumPy library and aliasing it as np\n",
    "import numpy as np\n",
    "\n",
    "# Setting the random seed to 32 for reproducibility\n",
    "np.random.seed(32)\n",
    "\n",
    "# Generating a 3D NumPy array 'nums' with dimensions 300x400x5\n",
    "# Filling it with random integers in the range [0, 256) and data type uint8\n",
    "nums = np.random.randint(low=0, high=256, size=(300, 400, 5), dtype=np.uint8)\n",
    "\n",
    "# Printing the generated array 'nums'\n",
    "print(nums) \n"
   ]
  },
  {
   "cell_type": "code",
   "execution_count": null,
   "metadata": {},
   "outputs": [],
   "source": []
  },
  {
   "cell_type": "markdown",
   "metadata": {},
   "source": [
    "# Numpy Array Exercise"
   ]
  },
  {
   "cell_type": "code",
   "execution_count": 54,
   "metadata": {},
   "outputs": [
    {
     "name": "stdout",
     "output_type": "stream",
     "text": [
      "2.0.0\n"
     ]
    }
   ],
   "source": [
    "import numpy as np\n",
    "print(np.__version__)"
   ]
  },
  {
   "cell_type": "code",
   "execution_count": 55,
   "metadata": {},
   "outputs": [
    {
     "name": "stdout",
     "output_type": "stream",
     "text": [
      "[1, 2, 3, 4]\n",
      "                    \n",
      "[1 2 3 4]\n"
     ]
    }
   ],
   "source": [
    "li=[1,2,3,4]\n",
    "nm=np.array(li)\n",
    "print(li)\n",
    "print(\" \"*20)\n",
    "print(nm)"
   ]
  },
  {
   "cell_type": "code",
   "execution_count": 7,
   "metadata": {},
   "outputs": [
    {
     "data": {
      "text/plain": [
       "array([[ 2,  3,  4],\n",
       "       [ 5,  6,  7],\n",
       "       [ 8,  9, 10]])"
      ]
     },
     "execution_count": 7,
     "metadata": {},
     "output_type": "execute_result"
    }
   ],
   "source": [
    "num=np.arange(2,11).reshape(3,3)\n",
    "num"
   ]
  },
  {
   "cell_type": "code",
   "execution_count": 10,
   "metadata": {},
   "outputs": [
    {
     "data": {
      "text/plain": [
       "array([ 0.,  0.,  0.,  0.,  0.,  0., 11.,  0.,  0.,  0.])"
      ]
     },
     "execution_count": 10,
     "metadata": {},
     "output_type": "execute_result"
    }
   ],
   "source": [
    "num=np.zeros(10)\n",
    "num[6]=11\n",
    "num"
   ]
  },
  {
   "cell_type": "code",
   "execution_count": 14,
   "metadata": {},
   "outputs": [
    {
     "data": {
      "text/plain": [
       "array([12, 13, 14, 15, 16, 17, 18, 19, 20, 21, 22, 23, 24, 25, 26, 27, 28,\n",
       "       29, 30, 31, 32, 33, 34, 35, 36, 37])"
      ]
     },
     "execution_count": 14,
     "metadata": {},
     "output_type": "execute_result"
    }
   ],
   "source": [
    "num=np.arange(12,38)\n",
    "num"
   ]
  },
  {
   "cell_type": "code",
   "execution_count": 16,
   "metadata": {},
   "outputs": [
    {
     "data": {
      "text/plain": [
       "array([5, 4, 3, 2, 1])"
      ]
     },
     "execution_count": 16,
     "metadata": {},
     "output_type": "execute_result"
    }
   ],
   "source": [
    "arr=np.array([1,2,3,4,5])\n",
    "num=arr[::-1]\n",
    "num"
   ]
  },
  {
   "cell_type": "code",
   "execution_count": 21,
   "metadata": {},
   "outputs": [
    {
     "data": {
      "text/plain": [
       "array([1., 2., 3., 4., 5.])"
      ]
     },
     "execution_count": 21,
     "metadata": {},
     "output_type": "execute_result"
    }
   ],
   "source": [
    "arr=np.array([1,2,3,4,5])\n",
    "x = np.asarray(arr,dtype='float')\n",
    "x"
   ]
  },
  {
   "cell_type": "code",
   "execution_count": 26,
   "metadata": {},
   "outputs": [
    {
     "data": {
      "text/plain": [
       "array([[1., 1., 1., 1., 1.],\n",
       "       [1., 0., 0., 0., 1.],\n",
       "       [1., 0., 0., 0., 1.],\n",
       "       [1., 0., 0., 0., 1.],\n",
       "       [1., 1., 1., 1., 1.]])"
      ]
     },
     "execution_count": 26,
     "metadata": {},
     "output_type": "execute_result"
    }
   ],
   "source": [
    "arr=np.ones([5,5])\n",
    "arr[1:-1, 1:-1] = 0\n",
    "arr"
   ]
  },
  {
   "cell_type": "code",
   "execution_count": 29,
   "metadata": {},
   "outputs": [
    {
     "name": "stdout",
     "output_type": "stream",
     "text": [
      "Original array:\n",
      "[[1. 1. 1.]\n",
      " [1. 1. 1.]\n",
      " [1. 1. 1.]]\n",
      "0 on the border and 1 inside in the array\n",
      "[[0. 0. 0. 0. 0.]\n",
      " [0. 1. 1. 1. 0.]\n",
      " [0. 1. 1. 1. 0.]\n",
      " [0. 1. 1. 1. 0.]\n",
      " [0. 0. 0. 0. 0.]]\n"
     ]
    }
   ],
   "source": [
    "#???\n",
    "x= np.ones((3, 3))\n",
    "\n",
    "# Printing the original array 'x'\n",
    "print(\"Original array:\")\n",
    "print(x)\n",
    "\n",
    "# Modifying the array 'x' to set 0s on the border and 1s inside the array using the np.pad function\n",
    "print(\"0 on the border and 1 inside in the array\")\n",
    "x = np.pad(x, pad_width=1, mode='constant', constant_values=0)\n",
    "\n",
    "# Printing the modified array 'x' with 0s on the border and 1s inside\n",
    "print(x)"
   ]
  },
  {
   "cell_type": "code",
   "execution_count": 31,
   "metadata": {},
   "outputs": [
    {
     "name": "stdout",
     "output_type": "stream",
     "text": [
      "Checkerboard pattern:\n",
      "[[0 1 0 1 0 1 0 1]\n",
      " [1 0 1 0 1 0 1 0]\n",
      " [0 1 0 1 0 1 0 1]\n",
      " [1 0 1 0 1 0 1 0]\n",
      " [0 1 0 1 0 1 0 1]\n",
      " [1 0 1 0 1 0 1 0]\n",
      " [0 1 0 1 0 1 0 1]\n",
      " [1 0 1 0 1 0 1 0]]\n"
     ]
    }
   ],
   "source": [
    "\n",
    "x = np.ones((3, 3))\n",
    "print(\"Checkerboard pattern:\")\n",
    "x = np.zeros((8, 8), dtype=int)\n",
    "x[1::2, ::2] = 1  \n",
    "x[::2, 1::2] = 1 \n",
    "print(x)"
   ]
  },
  {
   "cell_type": "code",
   "execution_count": 35,
   "metadata": {},
   "outputs": [
    {
     "name": "stdout",
     "output_type": "stream",
     "text": [
      "[1 2 3 4 5 6 7 8]\n",
      "[[1 2 3 4]\n",
      " [5 6 7 8]]\n"
     ]
    }
   ],
   "source": [
    "li=[1,2,3,4,5,6,7,8]\n",
    "print(np.asarray(li))\n",
    "to=([1,2,3,4],[5,6,7,8])\n",
    "print(np.asarray(to))"
   ]
  },
  {
   "cell_type": "code",
   "execution_count": 38,
   "metadata": {},
   "outputs": [
    {
     "data": {
      "text/plain": [
       "array([10, 20, 30, 40, 50, 60, 70])"
      ]
     },
     "execution_count": 38,
     "metadata": {},
     "output_type": "execute_result"
    }
   ],
   "source": [
    "arr=np.array([10,20,30])\n",
    "arr=np.append(arr,[40,50,60,70])\n",
    "arr"
   ]
  },
  {
   "cell_type": "code",
   "execution_count": 42,
   "metadata": {},
   "outputs": [
    {
     "name": "stdout",
     "output_type": "stream",
     "text": [
      "[[1.34588477e-311 3.16202013e-322 0.00000000e+000 0.00000000e+000]\n",
      " [2.67018234e-306 2.42260564e-052 6.87624756e+169 1.69021379e-052]\n",
      " [2.90212193e+180 1.04035764e-042 2.10938177e-052 1.72047406e+184]]\n",
      "                    \n",
      "[[6 6 6 6]\n",
      " [6 6 6 6]\n",
      " [6 6 6 6]]\n"
     ]
    }
   ],
   "source": [
    "x=np.empty((3,4))\n",
    "print(x)\n",
    "print(' '*20)\n",
    "y=np.full((3,4),6)\n",
    "print(y)\n"
   ]
  },
  {
   "cell_type": "code",
   "execution_count": 43,
   "metadata": {},
   "outputs": [
    {
     "name": "stdout",
     "output_type": "stream",
     "text": [
      "Values in Fahrenheit degrees:\n",
      "[ 0.   12.   45.21 34.   99.91 32.  ]\n",
      "Values in  Centigrade degrees:\n",
      "[-17.78 -11.11   7.34   1.11  37.73   0.  ]\n"
     ]
    }
   ],
   "source": [
    "# List of Fahrenheit values\n",
    "fvalues = [0, 12, 45.21, 34, 99.91, 32]\n",
    "\n",
    "# Creating a NumPy array from the Fahrenheit values list\n",
    "F = np.array(fvalues)\n",
    "\n",
    "# Printing the Fahrenheit values\n",
    "print(\"Values in Fahrenheit degrees:\")\n",
    "print(F)\n",
    "\n",
    "# Converting Fahrenheit values to Centigrade degrees and printing the result\n",
    "print(\"Values in  Centigrade degrees:\")\n",
    "print(np.round((5 * F / 9 - 5 * 32 / 9), 2))"
   ]
  },
  {
   "cell_type": "code",
   "execution_count": 44,
   "metadata": {},
   "outputs": [
    {
     "name": "stdout",
     "output_type": "stream",
     "text": [
      "Original array:x  [1.+0.j]\n",
      "Original array:y  [0.70710678+0.70710678j]\n",
      "Real part of the array:\n",
      "[1.]\n",
      "[0.70710678]\n",
      "Imaginary part of the array:\n",
      "[0.]\n",
      "[0.70710678]\n"
     ]
    }
   ],
   "source": [
    "# ????\n",
    "\n",
    "x = np.sqrt([1 + 0j])\n",
    "\n",
    "# Calculating square root of another complex number\n",
    "y = np.sqrt([0 + 1j])\n",
    "\n",
    "# Printing the original array 'x' and 'y'\n",
    "print(\"Original array:x \", x)\n",
    "print(\"Original array:y \", y)\n",
    "\n",
    "# Printing the real part of the array 'x' and 'y'\n",
    "print(\"Real part of the array:\")\n",
    "print(x.real)\n",
    "print(y.real)\n",
    "\n",
    "# Printing the imaginary part of the array 'x' and 'y'\n",
    "print(\"Imaginary part of the array:\")\n",
    "print(x.imag)\n",
    "print(y.imag) "
   ]
  },
  {
   "cell_type": "code",
   "execution_count": 45,
   "metadata": {},
   "outputs": [
    {
     "name": "stdout",
     "output_type": "stream",
     "text": [
      "3\n",
      "8\n",
      "24\n"
     ]
    }
   ],
   "source": [
    "x = np.array([1, 2, 3])\n",
    "print(x.size)\n",
    "print(x.itemsize)\n",
    "print(x.nbytes)"
   ]
  },
  {
   "cell_type": "code",
   "execution_count": 47,
   "metadata": {},
   "outputs": [
    {
     "name": "stdout",
     "output_type": "stream",
     "text": [
      "[ True  True False False  True]\n"
     ]
    }
   ],
   "source": [
    "x1=np.array([0,1,2,3,4])\n",
    "x2=np.array([0,1,7,4,5])\n",
    "print(np.isin(x1,x2))"
   ]
  },
  {
   "cell_type": "code",
   "execution_count": 48,
   "metadata": {},
   "outputs": [
    {
     "name": "stdout",
     "output_type": "stream",
     "text": [
      "[0 1 4]\n"
     ]
    }
   ],
   "source": [
    "x1=np.array([0,1,2,3,4])\n",
    "x2=np.array([0,1,7,4,5])\n",
    "print(np.intersect1d(x1,x2))"
   ]
  },
  {
   "cell_type": "code",
   "execution_count": 49,
   "metadata": {},
   "outputs": [
    {
     "name": "stdout",
     "output_type": "stream",
     "text": [
      "[1 2 3 4 5 6]\n"
     ]
    }
   ],
   "source": [
    "x=np.array([1,1,2,3,3,4,5,5,6])\n",
    "print(np.unique(x))"
   ]
  },
  {
   "cell_type": "code",
   "execution_count": 50,
   "metadata": {},
   "outputs": [
    {
     "name": "stdout",
     "output_type": "stream",
     "text": [
      "[2 3]\n"
     ]
    }
   ],
   "source": [
    "x1=np.array([0,1,2,3,4])\n",
    "x2=np.array([0,1,7,4,5])\n",
    "print(np.setdiff1d(x1,x2))"
   ]
  },
  {
   "cell_type": "code",
   "execution_count": 51,
   "metadata": {},
   "outputs": [
    {
     "name": "stdout",
     "output_type": "stream",
     "text": [
      "[2 3 5 7]\n"
     ]
    }
   ],
   "source": [
    "x1=np.array([0,1,2,3,4])\n",
    "x2=np.array([0,1,7,4,5])\n",
    "print(np.setxor1d(x1,x2)) "
   ]
  },
  {
   "cell_type": "code",
   "execution_count": 53,
   "metadata": {},
   "outputs": [
    {
     "name": "stdout",
     "output_type": "stream",
     "text": [
      "False\n",
      "True\n",
      "False\n",
      "True\n"
     ]
    }
   ],
   "source": [
    "print(np.all([[True,False],[True,True]]))  \n",
    "print(np.all([[True,True],[True,True]]))  \n",
    "\n",
    "print(np.all([10, 20, 0, -50]))   \n",
    "print(np.all([10, 20, -50])) "
   ]
  },
  {
   "cell_type": "markdown",
   "metadata": {},
   "source": [
    "# Stopped at 24"
   ]
  },
  {
   "cell_type": "markdown",
   "metadata": {},
   "source": []
  }
 ],
 "metadata": {
  "kernelspec": {
   "display_name": "Python 3",
   "language": "python",
   "name": "python3"
  },
  "language_info": {
   "codemirror_mode": {
    "name": "ipython",
    "version": 3
   },
   "file_extension": ".py",
   "mimetype": "text/x-python",
   "name": "python",
   "nbconvert_exporter": "python",
   "pygments_lexer": "ipython3",
   "version": "3.12.4"
  }
 },
 "nbformat": 4,
 "nbformat_minor": 2
}
