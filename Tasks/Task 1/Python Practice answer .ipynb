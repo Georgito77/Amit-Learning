{
 "cells": [
  {
   "cell_type": "markdown",
   "metadata": {},
   "source": [
    "### Q1. Write a program to calculate the area of a rectangle with given length and width.\n",
    "    area = length * width"
   ]
  },
  {
   "cell_type": "code",
   "execution_count": 2,
   "metadata": {},
   "outputs": [
    {
     "name": "stdout",
     "output_type": "stream",
     "text": [
      "35\n"
     ]
    }
   ],
   "source": [
    "length=5\n",
    "width=7\n",
    "area= length*width\n",
    "print(area)"
   ]
  },
  {
   "cell_type": "markdown",
   "metadata": {},
   "source": [
    "### Q2. Write a program that takes an integer input from the user and prints whether it's even or odd.\n",
    "    Even Numbers: 0, 2, 4, 6, 8, ...\n",
    "    OOD Numbers: 1, 3, 5, 7, 9, ..."
   ]
  },
  {
   "cell_type": "code",
   "execution_count": 11,
   "metadata": {},
   "outputs": [
    {
     "name": "stdout",
     "output_type": "stream",
     "text": [
      "5 is odd number\n"
     ]
    }
   ],
   "source": [
    "x=int(input(\"Enter a Number: \"))\n",
    "if(x%2==0):\n",
    "    print(f\"{x} is even number\")\n",
    "else:\n",
    "    print(f\"{x} is odd number\")"
   ]
  },
  {
   "cell_type": "markdown",
   "metadata": {},
   "source": [
    "### Q3. Write a program that takes a three-digit number as input and calculates the sum of its digits."
   ]
  },
  {
   "cell_type": "code",
   "execution_count": 27,
   "metadata": {},
   "outputs": [
    {
     "name": "stdout",
     "output_type": "stream",
     "text": [
      "The sum of 3+2+1=6\n"
     ]
    }
   ],
   "source": [
    "\n",
    "x=input(\"Enter a 3 digit number\")\n",
    "x1=x[:1]\n",
    "x1=int(x1)\n",
    "x2=x[1:2]\n",
    "x2=int(x2)\n",
    "x3=x[2:3]\n",
    "x3=int(x3)\n",
    "sum=x1+x2+x3\n",
    "print (f\"The sum of {x1}+{x2}+{x3}={sum}\")"
   ]
  },
  {
   "cell_type": "markdown",
   "metadata": {},
   "source": [
    "### Q4. Create two strings and concatenate them to form a third string."
   ]
  },
  {
   "cell_type": "code",
   "execution_count": 29,
   "metadata": {},
   "outputs": [
    {
     "data": {
      "text/plain": [
       "'Hello World'"
      ]
     },
     "execution_count": 29,
     "metadata": {},
     "output_type": "execute_result"
    }
   ],
   "source": [
    "x1=\"Hello \"\n",
    "x2=\"World\"\n",
    "x3=x1+x2\n",
    "x3"
   ]
  },
  {
   "cell_type": "markdown",
   "metadata": {},
   "source": [
    "### Q5. Write a program that compares two numbers and prints whether the first number is greater, smaller, or equal to the second number."
   ]
  },
  {
   "cell_type": "code",
   "execution_count": 141,
   "metadata": {},
   "outputs": [
    {
     "name": "stdout",
     "output_type": "stream",
     "text": [
      "2 is equal to 2\n"
     ]
    }
   ],
   "source": [
    "x=2\n",
    "y=2\n",
    "if(x>y):\n",
    "    print(f\"{x} is greater than {y}\")\n",
    "elif(x<y):\n",
    "    print(f\"{y} is greater than {x}\")\n",
    "else:\n",
    "    print(f\"{x} is equal to {y}\")"
   ]
  },
  {
   "cell_type": "markdown",
   "metadata": {},
   "source": [
    "### Q6. Write a program that takes a string as input and prints it in reverse order.\n",
    "    ahmed => demha"
   ]
  },
  {
   "cell_type": "code",
   "execution_count": 139,
   "metadata": {},
   "outputs": [
    {
     "name": "stdout",
     "output_type": "stream",
     "text": [
      "The reverse of sgod is dogs\n"
     ]
    }
   ],
   "source": [
    "x=input(\"Enter a string: \")\n",
    "x1=x[::-1]\n",
    "print(f\"The reverse of {x} is {x1}\")\n"
   ]
  },
  {
   "cell_type": "markdown",
   "metadata": {},
   "source": [
    "### Q7. Write a program that takes a number as input and prints \"Positive\" if it's greater than 0, \"Negative\" if it's less than 0, and \"Zero\" if it's equal to 0."
   ]
  },
  {
   "cell_type": "code",
   "execution_count": 138,
   "metadata": {},
   "outputs": [
    {
     "name": "stdout",
     "output_type": "stream",
     "text": [
      "10 is greater than 0\n"
     ]
    }
   ],
   "source": [
    "x=int(input(\"Enter a number: \"))\n",
    "if(x>0):\n",
    "    print(f\"{x} is greater than 0\")\n",
    "elif(x<0):\n",
    "    print(f\"{x} is less than 0\")\n",
    "else:\n",
    "    print(f\"{x} is equal to 0\")"
   ]
  },
  {
   "cell_type": "markdown",
   "metadata": {},
   "source": [
    "### Q8. Write a program that converts Fahrenheit to Celsius. Take Fahrenheit as input from the user.\n",
    "    Temperature in degrees Celsius (°C) = (Temperature in degrees Fahrenheit (°F) - 32) * 5/9"
   ]
  },
  {
   "cell_type": "code",
   "execution_count": 45,
   "metadata": {},
   "outputs": [
    {
     "name": "stdout",
     "output_type": "stream",
     "text": [
      "The Celsius is: 32.22222222222222\n"
     ]
    }
   ],
   "source": [
    "x=int(input(\"Enter a Temperature in Fahrenheit: \"))\n",
    "x=(x-32)*5/9\n",
    "print(f\"The Celsius is: {x}\")"
   ]
  },
  {
   "cell_type": "markdown",
   "metadata": {},
   "source": [
    "### Q9. Write a program that takes a string as input and counts the number of characters in it.\n",
    "    ahmed => 5"
   ]
  },
  {
   "cell_type": "code",
   "execution_count": 109,
   "metadata": {},
   "outputs": [
    {
     "name": "stdout",
     "output_type": "stream",
     "text": [
      "george => 6\n"
     ]
    }
   ],
   "source": [
    "x=input(\"Enter a string to be counted: \")\n",
    "x2=len(x)\n",
    "print(f\"{x} => {x2}\")"
   ]
  },
  {
   "cell_type": "markdown",
   "metadata": {},
   "source": [
    "### Q11. Create two lists and concatenate them to form a third list."
   ]
  },
  {
   "cell_type": "code",
   "execution_count": 76,
   "metadata": {},
   "outputs": [
    {
     "data": {
      "text/plain": [
       "[1, 2, 3, 4, 5, 6, 7, 8, 9]"
      ]
     },
     "execution_count": 76,
     "metadata": {},
     "output_type": "execute_result"
    }
   ],
   "source": [
    "list=[1,2,3,4,5]\n",
    "list1=[6,7,8,9]\n",
    "sum=list+list1\n",
    "sum"
   ]
  },
  {
   "cell_type": "markdown",
   "metadata": {},
   "source": [
    "### Q12. Write a program that takes a string as input and checks whether it's a palindrome.\n",
    "    radar, level, madam, ..."
   ]
  },
  {
   "cell_type": "code",
   "execution_count": 88,
   "metadata": {},
   "outputs": [
    {
     "name": "stdout",
     "output_type": "stream",
     "text": [
      "The string 'level' is palindrome\n"
     ]
    }
   ],
   "source": [
    "x=input(\"Enter a string: \")\n",
    "x2=x[::-1]\n",
    "if(x==x2):\n",
    "    print(f\"The string '{x}' is palindrome\")\n",
    "else:\n",
    "    print(f\"The string '{x}' is not palindrome\")"
   ]
  },
  {
   "cell_type": "markdown",
   "metadata": {},
   "source": [
    "### Q13. Write a program that takes three numbers as input and prints their average."
   ]
  },
  {
   "cell_type": "code",
   "execution_count": 90,
   "metadata": {},
   "outputs": [
    {
     "name": "stdout",
     "output_type": "stream",
     "text": [
      "The average of 1, 2, 3 is 2.0\n"
     ]
    }
   ],
   "source": [
    "x=int(input(\"Enter number 1: \"))\n",
    "y=int(input(\"Enter number 2: \"))\n",
    "z=int(input(\"Enter number 3: \"))\n",
    "avg=(x+y+z)/3\n",
    "print(f\"The average of {x}, {y}, {z} is {avg}\")"
   ]
  },
  {
   "cell_type": "markdown",
   "metadata": {},
   "source": [
    "### Q14. Write a program that takes two numbers as input and checks whether the first number is divisible by the second number."
   ]
  },
  {
   "cell_type": "code",
   "execution_count": 92,
   "metadata": {},
   "outputs": [
    {
     "name": "stdout",
     "output_type": "stream",
     "text": [
      "13 is not divisible by 2\n"
     ]
    }
   ],
   "source": [
    "x=int(input(\"Enter a number:\"))\n",
    "y=int(input(\"Enter a number:\"))\n",
    "if(x%y==0):\n",
    "    print(f\"{x} is divisible by {y}\")\n",
    "else:\n",
    "    print(f\"{x} is not divisible by {y}\")"
   ]
  },
  {
   "cell_type": "markdown",
   "metadata": {},
   "source": [
    "### Q15. Write a program that takes two numbers and an operator (+, -, *, /) as input and performs the corresponding operation."
   ]
  },
  {
   "cell_type": "code",
   "execution_count": 136,
   "metadata": {},
   "outputs": [
    {
     "name": "stdout",
     "output_type": "stream",
     "text": [
      "2 / 1 = 2.0\n"
     ]
    }
   ],
   "source": [
    "x=int(input(\"Enter a number:\"))\n",
    "y=int(input(\"Enter a number:\"))\n",
    "op=input(\"Enter operator:\")\n",
    "\n",
    "if(op==\"+\"):\n",
    "    result=x+y\n",
    "    print(f\"{x} {op} {y} = {result}\")\n",
    "elif(op==\"-\"):\n",
    "    result=x-y\n",
    "    print(f\"{x} {op} {y} = {result}\")\n",
    "elif(op==\"*\"):\n",
    "    result=x*y\n",
    "    print(f\"{x} {op} {y} = {result}\")\n",
    "elif(op==\"/\"):\n",
    "    result=x/y\n",
    "    print(f\"{x} {op} {y} = {result}\")\n",
    "else:\n",
    "    print(\"invalid Operator\")\n"
   ]
  },
  {
   "cell_type": "markdown",
   "metadata": {},
   "source": [
    "### Q16. Write a program that takes three numbers as input and prints the minimum of those numbers."
   ]
  },
  {
   "cell_type": "code",
   "execution_count": 134,
   "metadata": {},
   "outputs": [
    {
     "name": "stdout",
     "output_type": "stream",
     "text": [
      "The minimum of 10, 20, 30 is 10\n"
     ]
    }
   ],
   "source": [
    "x=int(input(\"Enter a number 1:\"))\n",
    "y=int(input(\"Enter a number 2:\"))\n",
    "z=int(input(\"Enter a number 3:\"))\n",
    "w=[x,y,z]\n",
    "w=min(w)\n",
    "print(f\"The minimum of {x}, {y}, {z} is {w}\")"
   ]
  },
  {
   "cell_type": "markdown",
   "metadata": {},
   "source": [
    "### Q17. Write a program that takes a string as input and prints its length."
   ]
  },
  {
   "cell_type": "code",
   "execution_count": 110,
   "metadata": {},
   "outputs": [
    {
     "name": "stdout",
     "output_type": "stream",
     "text": [
      "george => 6\n"
     ]
    }
   ],
   "source": [
    "x=input(\"Enter a string to be counted: \")\n",
    "x2=len(x)\n",
    "print(f\"{x} => {x2}\")"
   ]
  },
  {
   "cell_type": "markdown",
   "metadata": {},
   "source": [
    "### Q18. Create a list of numbers and write a program to find the sum of all elements in the list."
   ]
  },
  {
   "cell_type": "code",
   "execution_count": 124,
   "metadata": {},
   "outputs": [
    {
     "name": "stdout",
     "output_type": "stream",
     "text": [
      "15\n"
     ]
    }
   ],
   "source": [
    "number=[1,2,3,4,5]\n",
    "total=0\n",
    "for i in number:\n",
    "    total+=i\n",
    "\n",
    "print(total)"
   ]
  },
  {
   "cell_type": "markdown",
   "metadata": {},
   "source": [
    "### Q19. Write a program that takes a string as input and prints it in both uppercase and lowercase."
   ]
  },
  {
   "cell_type": "code",
   "execution_count": 131,
   "metadata": {},
   "outputs": [
    {
     "name": "stdout",
     "output_type": "stream",
     "text": [
      "GEORGE\n",
      "george\n"
     ]
    }
   ],
   "source": [
    "x=input(\"Enter a string\")\n",
    "print(x.upper())\n",
    "print(x.lower())\n"
   ]
  }
 ],
 "metadata": {
  "kernelspec": {
   "display_name": "Python 3",
   "language": "python",
   "name": "python3"
  },
  "language_info": {
   "codemirror_mode": {
    "name": "ipython",
    "version": 3
   },
   "file_extension": ".py",
   "mimetype": "text/x-python",
   "name": "python",
   "nbconvert_exporter": "python",
   "pygments_lexer": "ipython3",
   "version": "3.12.4"
  }
 },
 "nbformat": 4,
 "nbformat_minor": 2
}
